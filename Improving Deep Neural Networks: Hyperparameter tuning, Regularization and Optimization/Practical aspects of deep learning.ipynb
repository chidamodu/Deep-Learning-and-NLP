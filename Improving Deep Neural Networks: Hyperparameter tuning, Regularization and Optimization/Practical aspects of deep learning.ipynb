{
 "cells": [
  {
   "cell_type": "code",
   "execution_count": null,
   "metadata": {},
   "outputs": [],
   "source": [
    "If you have 10,000,000 examples, how would you split the train/dev/test set?\n",
    "\n",
    "\n",
    "\n",
    "33% train . 33% dev . 33% test\n",
    "\n",
    "\n",
    "98% train . 1% dev . 1% test : correct\n",
    "\n",
    "\n",
    "60% train . 20% dev . 20% test\n",
    "\n",
    "\n",
    "\n",
    "\n",
    "\n",
    "\n"
   ]
  },
  {
   "cell_type": "code",
   "execution_count": null,
   "metadata": {},
   "outputs": [],
   "source": [
    "2.Question 2\n",
    "The dev and test set should:\n",
    "\n",
    "\n",
    "\n",
    "Come from the same distribution : correct\n",
    "\n",
    "\n",
    "Come from different distributions\n",
    "\n",
    "\n",
    "Be identical to each other (same (x,y) pairs)\n",
    "\n",
    "\n",
    "Have the same number of examples\n",
    "\n",
    "\n"
   ]
  },
  {
   "cell_type": "code",
   "execution_count": null,
   "metadata": {},
   "outputs": [],
   "source": [
    "3.Question 3\n",
    "If your Neural Network model seems to have high bias, what of the following would be promising things to try? (Check all that apply.)\n",
    "\n",
    "\n",
    "Increase the number of units in each hidden layer: Correct\n",
    "\n",
    "\n",
    "Get more test data\n",
    "\n",
    "\n",
    "Get more training data\n",
    "\n",
    "\n",
    "Make the Neural Network deeper: Correct\n",
    "\n",
    "\n",
    "Add regularization\n"
   ]
  },
  {
   "cell_type": "code",
   "execution_count": null,
   "metadata": {},
   "outputs": [],
   "source": [
    "4.Question 4\n",
    "You are working on an automated check-out kiosk for a supermarket, and are building a classifier for apples, bananas and oranges. Suppose your classifier obtains a training set error of 0.5%, and a dev set error of 7%. Which of the following are promising things to try to improve your classifier? (Check all that apply.)\n",
    "\n",
    "\n",
    "Increase the regularization parameter lambda: Correct\n",
    "\n",
    "\n",
    "Decrease the regularization parameter lambda\n",
    "\n",
    "\n",
    "Get more training data: Correct\n",
    "\n",
    "\n",
    "Use a bigger neural network\n"
   ]
  },
  {
   "cell_type": "code",
   "execution_count": null,
   "metadata": {},
   "outputs": [],
   "source": [
    "5.Question 5\n",
    "What is weight decay?\n",
    "\n",
    "\n",
    "Gradual corruption of the weights in the neural network if it is trained on noisy data.\n",
    "\n",
    "\n",
    "The process of gradually decreasing the learning rate during training.\n",
    "\n",
    "\n",
    "A regularization technique (such as L2 regularization) that results in gradient descent shrinking the weights on every iteration.\n",
    "\n",
    "\n",
    "A technique to avoid vanishing gradient by imposing a ceiling on the values of the weights : Correct\n",
    "\n"
   ]
  },
  {
   "cell_type": "code",
   "execution_count": null,
   "metadata": {},
   "outputs": [],
   "source": [
    "6.Question 6\n",
    "What happens when you increase the regularization hyperparameter lambda?\n",
    "\n",
    "\n",
    "Weights are pushed toward becoming smaller (closer to 0)\n",
    "\n",
    "\n",
    "Weights are pushed toward becoming bigger (further from 0)\n",
    "\n",
    "\n",
    "Doubling lambda should roughly result in doubling the weights\n",
    "\n",
    "\n",
    "Gradient descent taking bigger steps with each iteration (proportional to lambda): Correct\n",
    "\n"
   ]
  },
  {
   "cell_type": "code",
   "execution_count": null,
   "metadata": {},
   "outputs": [],
   "source": [
    "7.Question 7\n",
    "With the inverted dropout technique, at test time:\n",
    "\n",
    "\n",
    "You apply dropout (randomly eliminating units) and do not keep the 1/keep_prob factor in the calculations used in training\n",
    "\n",
    "\n",
    "You apply dropout (randomly eliminating units) but keep the 1/keep_prob factor in the calculations used in training.\n",
    "\n",
    "\n",
    "You do not apply dropout (do not randomly eliminate units), but keep the 1/keep_prob factor in the calculations used in training.\n",
    "\n",
    "\n",
    "You do not apply dropout (do not randomly eliminate units) and do not keep the 1/keep_prob factor in the calculations used in training: Correct\n",
    "\n"
   ]
  },
  {
   "cell_type": "code",
   "execution_count": null,
   "metadata": {},
   "outputs": [],
   "source": [
    "8.Question 8\n",
    "Increasing the parameter keep_prob from (say) 0.5 to 0.6 will likely cause the following: (Check the two that apply)\n",
    "\n",
    "\n",
    "Increasing the regularization effect\n",
    "\n",
    "\n",
    "Reducing the regularization effect: Correct\n",
    "\n",
    "\n",
    "Causing the neural network to end up with a higher training set error\n",
    "\n",
    "\n",
    "Causing the neural network to end up with a lower training set error: Correct\n",
    "\n"
   ]
  },
  {
   "cell_type": "code",
   "execution_count": null,
   "metadata": {},
   "outputs": [],
   "source": [
    "9.Question 9\n",
    "Which of these techniques are useful for reducing variance (reducing overfitting)? (Check all that apply.)\n",
    "\n",
    "\n",
    "Gradient Checking\n",
    "\n",
    "\n",
    "Dropout : Correct\n",
    "\n",
    "\n",
    "L2 regularization : Correct\n",
    "\n",
    "\n",
    "Data augmentation : Correct\n",
    "\n",
    "\n",
    "Vanishing gradient\n",
    "\n",
    "\n",
    "Exploding gradient\n",
    "\n",
    "\n",
    "Xavier initialization\n",
    "\n"
   ]
  },
  {
   "cell_type": "code",
   "execution_count": null,
   "metadata": {},
   "outputs": [],
   "source": [
    "10.Question 10\n",
    "Why do we normalize the inputs x?\n",
    "\n",
    "\n",
    "Normalization is another word for regularization--It helps to reduce variance\n",
    "\n",
    "\n",
    "It makes it easier to visualize the data\n",
    "\n",
    "\n",
    "It makes the parameter initialization faster\n",
    "\n",
    "\n",
    "It makes the cost function faster to optimize: Correct\n"
   ]
  }
 ],
 "metadata": {
  "kernelspec": {
   "display_name": "Python 3",
   "language": "python",
   "name": "python3"
  },
  "language_info": {
   "codemirror_mode": {
    "name": "ipython",
    "version": 3
   },
   "file_extension": ".py",
   "mimetype": "text/x-python",
   "name": "python",
   "nbconvert_exporter": "python",
   "pygments_lexer": "ipython3",
   "version": "3.7.4"
  }
 },
 "nbformat": 4,
 "nbformat_minor": 2
}
