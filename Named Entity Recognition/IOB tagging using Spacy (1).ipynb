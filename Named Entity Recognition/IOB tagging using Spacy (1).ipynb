{
 "cells": [
  {
   "cell_type": "code",
   "execution_count": 18,
   "metadata": {},
   "outputs": [],
   "source": [
    "import spacy\n",
    "import srsly\n",
    "from spacy.gold import docs_to_json, biluo_tags_from_offsets, spans_from_biluo_tags\n",
    "\n",
    "TRAIN_DATA = [\n",
    "    (\"Who is Shaka Khan?\", {\"entities\": [(7, 17, \"PERSON\")]}),\n",
    "    (\"I like London and Berlin.\", {\"entities\": [(7, 13, \"LOC\"), (18, 24, \"LOC\")]}),\n",
    "]\n",
    "\n"
   ]
  },
  {
   "cell_type": "code",
   "execution_count": 19,
   "metadata": {},
   "outputs": [],
   "source": [
    "import en_core_web_sm"
   ]
  },
  {
   "cell_type": "code",
   "execution_count": 20,
   "metadata": {},
   "outputs": [],
   "source": [
    "#this did not work even after downloading the necessary packages\n",
    "# nlp = spacy.load('en_core_web_sm')\n",
    "# docs = []\n",
    "# for text, annot in TRAIN_DATA:\n",
    "#     doc = nlp(text)\n",
    "#     tags = biluo_tags_from_offsets(doc, annot['entities'])\n",
    "#     entities = spans_from_biluo_tags(doc, tags)\n",
    "#     doc.ents = entities\n",
    "#     docs.append(doc)"
   ]
  },
  {
   "cell_type": "code",
   "execution_count": null,
   "metadata": {},
   "outputs": [],
   "source": [
    "Using Spacy\n",
    "for example let us assume we have the following document and want to IOB tag the tokens of the doc\n",
    "\n",
    "doc = nlp('European authorities fined Google a record $5.1 billion on Wednesday for abusing its power in the mobile \n",
    "          phone market and ordered the company to alter its practices')\n",
    "          \n",
    "          \n",
    "\n"
   ]
  },
  {
   "cell_type": "code",
   "execution_count": null,
   "metadata": {},
   "outputs": [],
   "source": [
    "Then can use the below statement to assign the IOB tags \n",
    "\n",
    "for X in doc:\n",
    "    print(X, X.ent_iob_)\n",
    "    "
   ]
  }
 ],
 "metadata": {
  "kernelspec": {
   "display_name": "Python 3",
   "language": "python",
   "name": "python3"
  },
  "language_info": {
   "codemirror_mode": {
    "name": "ipython",
    "version": 3
   },
   "file_extension": ".py",
   "mimetype": "text/x-python",
   "name": "python",
   "nbconvert_exporter": "python",
   "pygments_lexer": "ipython3",
   "version": "3.7.4"
  }
 },
 "nbformat": 4,
 "nbformat_minor": 2
}
