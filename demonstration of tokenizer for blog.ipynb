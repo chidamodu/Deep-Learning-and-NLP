{
 "cells": [
  {
   "cell_type": "code",
   "execution_count": 22,
   "metadata": {},
   "outputs": [
    {
     "data": {
      "text/plain": [
       "[[1, 4, 5],\n",
       " [1, 6, 7, 8, 9, 10, 1, 11, 12, 2, 13, 14, 15, 16],\n",
       " [17, 18, 19, 3, 20],\n",
       " [21, 22, 3, 2, 23, 24, 25, 2, 26]]"
      ]
     },
     "execution_count": 22,
     "metadata": {},
     "output_type": "execute_result"
    }
   ],
   "source": [
    "import tensorflow as tf\n",
    "from tensorflow import keras\n",
    "from tensorflow.keras.preprocessing.text import Tokenizer\n",
    "\n",
    "sentences=['I love swimming', 'I learnt to speak french when I visited France a couple of years ago',\n",
    "           'The coronavirus outbreak is terrible', 'Financial independence is a must have for a woman']\n",
    "tokenizer = Tokenizer()\n",
    "tokenizer.fit_on_texts(sentences)\n",
    "sequences = tokenizer.texts_to_sequences(sentences)\n",
    "sequences\n",
    "\n"
   ]
  },
  {
   "cell_type": "code",
   "execution_count": 23,
   "metadata": {},
   "outputs": [
    {
     "name": "stdout",
     "output_type": "stream",
     "text": [
      "{'i': 1, 'a': 2, 'is': 3, 'love': 4, 'swimming': 5, 'learnt': 6, 'to': 7, 'speak': 8, 'french': 9, 'when': 10, 'visited': 11, 'france': 12, 'couple': 13, 'of': 14, 'years': 15, 'ago': 16, 'the': 17, 'coronavirus': 18, 'outbreak': 19, 'terrible': 20, 'financial': 21, 'independence': 22, 'must': 23, 'have': 24, 'for': 25, 'woman': 26}\n"
     ]
    }
   ],
   "source": [
    "word_index = tokenizer.word_index\n",
    "print(word_index)\n"
   ]
  },
  {
   "cell_type": "code",
   "execution_count": 24,
   "metadata": {},
   "outputs": [
    {
     "data": {
      "text/plain": [
       "[[1, 4], [3, 7, 18]]"
      ]
     },
     "execution_count": 24,
     "metadata": {},
     "output_type": "execute_result"
    }
   ],
   "source": [
    "test_data=['I really love my turtle', 'Stay in shelter is in place due to coronavirus']\n",
    "\n",
    "test_sequence=tokenizer.texts_to_sequences(test_data)\n",
    "\n",
    "test_sequence\n",
    "\n"
   ]
  },
  {
   "cell_type": "code",
   "execution_count": null,
   "metadata": {},
   "outputs": [],
   "source": [
    "Now the same example used above but with oov_token added"
   ]
  },
  {
   "cell_type": "code",
   "execution_count": 25,
   "metadata": {},
   "outputs": [
    {
     "data": {
      "text/plain": [
       "[[2, 5, 6],\n",
       " [2, 7, 8, 9, 10, 11, 2, 12, 13, 3, 14, 15, 16, 17],\n",
       " [18, 19, 20, 4, 21],\n",
       " [22, 23, 4, 3, 24, 25, 26, 3, 27]]"
      ]
     },
     "execution_count": 25,
     "metadata": {},
     "output_type": "execute_result"
    }
   ],
   "source": [
    "import tensorflow as tf\n",
    "from tensorflow import keras\n",
    "from tensorflow.keras.preprocessing.text import Tokenizer\n",
    "\n",
    "sentences=['I love swimming', 'I learnt to speak french when I visited France a couple of years ago',\n",
    "           'The coronavirus outbreak is terrible', 'Financial independence is a must have for a woman']\n",
    "tokenizer = Tokenizer(oov_token=\"<OOV>\")\n",
    "tokenizer.fit_on_texts(sentences)\n",
    "sequences = tokenizer.texts_to_sequences(sentences)\n",
    "sequences\n"
   ]
  },
  {
   "cell_type": "code",
   "execution_count": 26,
   "metadata": {},
   "outputs": [
    {
     "name": "stdout",
     "output_type": "stream",
     "text": [
      "{'<OOV>': 1, 'i': 2, 'a': 3, 'is': 4, 'love': 5, 'swimming': 6, 'learnt': 7, 'to': 8, 'speak': 9, 'french': 10, 'when': 11, 'visited': 12, 'france': 13, 'couple': 14, 'of': 15, 'years': 16, 'ago': 17, 'the': 18, 'coronavirus': 19, 'outbreak': 20, 'terrible': 21, 'financial': 22, 'independence': 23, 'must': 24, 'have': 25, 'for': 26, 'woman': 27}\n"
     ]
    }
   ],
   "source": [
    "word_index = tokenizer.word_index\n",
    "print(word_index)\n"
   ]
  },
  {
   "cell_type": "code",
   "execution_count": 27,
   "metadata": {},
   "outputs": [
    {
     "data": {
      "text/plain": [
       "[[2, 1, 5, 1, 1], [1, 1, 1, 4, 1, 1, 1, 8, 19]]"
      ]
     },
     "execution_count": 27,
     "metadata": {},
     "output_type": "execute_result"
    }
   ],
   "source": [
    "test_data=['I really love my turtle', 'Stay in shelter is in place due to coronavirus']\n",
    "\n",
    "test_sequence=tokenizer.texts_to_sequences(test_data)\n",
    "\n",
    "test_sequence\n",
    "\n"
   ]
  }
 ],
 "metadata": {
  "kernelspec": {
   "display_name": "Python 3",
   "language": "python",
   "name": "python3"
  },
  "language_info": {
   "codemirror_mode": {
    "name": "ipython",
    "version": 3
   },
   "file_extension": ".py",
   "mimetype": "text/x-python",
   "name": "python",
   "nbconvert_exporter": "python",
   "pygments_lexer": "ipython3",
   "version": "3.7.4"
  }
 },
 "nbformat": 4,
 "nbformat_minor": 2
}
