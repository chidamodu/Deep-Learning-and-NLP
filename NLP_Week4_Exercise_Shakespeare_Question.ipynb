{
  "nbformat": 4,
  "nbformat_minor": 0,
  "metadata": {
    "accelerator": "GPU",
    "colab": {
      "name": "NLP_Week4_Exercise_Shakespeare_Question.ipynb",
      "provenance": [],
      "toc_visible": true
    },
    "kernelspec": {
      "display_name": "Python 3",
      "name": "python3"
    }
  },
  "cells": [
    {
      "cell_type": "code",
      "metadata": {
        "id": "zX4Kg8DUTKWO",
        "colab_type": "code",
        "colab": {}
      },
      "source": [
        "#@title Licensed under the Apache License, Version 2.0 (the \"License\");\n",
        "# you may not use this file except in compliance with the License.\n",
        "# You may obtain a copy of the License at\n",
        "#\n",
        "# https://www.apache.org/licenses/LICENSE-2.0\n",
        "#\n",
        "# Unless required by applicable law or agreed to in writing, software\n",
        "# distributed under the License is distributed on an \"AS IS\" BASIS,\n",
        "# WITHOUT WARRANTIES OR CONDITIONS OF ANY KIND, either express or implied.\n",
        "# See the License for the specific language governing permissions and\n",
        "# limitations under the License."
      ],
      "execution_count": 0,
      "outputs": []
    },
    {
      "cell_type": "code",
      "metadata": {
        "colab_type": "code",
        "id": "BOwsuGQQY9OL",
        "colab": {}
      },
      "source": [
        "from tensorflow.keras.preprocessing.sequence import pad_sequences\n",
        "from tensorflow.keras.layers import Embedding, LSTM, Dense, Dropout, Bidirectional\n",
        "from tensorflow.keras.preprocessing.text import Tokenizer\n",
        "from tensorflow.keras.models import Sequential\n",
        "from tensorflow.keras.optimizers import Adam\n",
        "### YOUR CODE HERE\n",
        "from tensorflow.keras import regularizers\n",
        "###\n",
        "import tensorflow.keras.utils as ku \n",
        "import numpy as np "
      ],
      "execution_count": 0,
      "outputs": []
    },
    {
      "cell_type": "code",
      "metadata": {
        "colab_type": "code",
        "id": "PRnDnCW-Z7qv",
        "colab": {
          "base_uri": "https://localhost:8080/",
          "height": 204
        },
        "outputId": "99ea48d2-cc75-4251-bbfe-c67ea6d5d25f"
      },
      "source": [
        "tokenizer = Tokenizer()\n",
        "!wget --no-check-certificate \\\n",
        "    https://storage.googleapis.com/laurencemoroney-blog.appspot.com/sonnets.txt \\\n",
        "    -O /tmp/sonnets.txt\n",
        "data = open('/tmp/sonnets.txt').read()\n",
        "\n",
        "corpus = data.lower().split(\"\\n\")\n",
        "\n",
        "\n",
        "tokenizer.fit_on_texts(corpus)\n",
        "total_words = len(tokenizer.word_index) + 1\n",
        "\n",
        "# create input sequences using list of tokens\n",
        "input_sequences = []\n",
        "for line in corpus:\n",
        "\ttoken_list = tokenizer.texts_to_sequences([line])[0]\n",
        "\tfor i in range(1, len(token_list)):\n",
        "\t\tn_gram_sequence = token_list[:i+1]\n",
        "\t\tinput_sequences.append(n_gram_sequence)\n",
        "\n",
        "\n",
        "# pad sequences \n",
        "max_sequence_len = max([len(x) for x in input_sequences])\n",
        "input_sequences = np.array(pad_sequences(input_sequences, maxlen=max_sequence_len, padding='pre'))\n",
        "\n",
        "# create predictors and label\n",
        "predictors, label = input_sequences[:,:-1],input_sequences[:,-1]\n",
        "\n",
        "label = ku.to_categorical(label, num_classes=total_words)"
      ],
      "execution_count": 2,
      "outputs": [
        {
          "output_type": "stream",
          "text": [
            "--2020-04-09 22:45:47--  https://storage.googleapis.com/laurencemoroney-blog.appspot.com/sonnets.txt\n",
            "Resolving storage.googleapis.com (storage.googleapis.com)... 216.58.217.208, 2607:f8b0:4026:802::2010\n",
            "Connecting to storage.googleapis.com (storage.googleapis.com)|216.58.217.208|:443... connected.\n",
            "HTTP request sent, awaiting response... 200 OK\n",
            "Length: 93578 (91K) [text/plain]\n",
            "Saving to: ‘/tmp/sonnets.txt’\n",
            "\n",
            "\r/tmp/sonnets.txt      0%[                    ]       0  --.-KB/s               \r/tmp/sonnets.txt    100%[===================>]  91.38K  --.-KB/s    in 0.001s  \n",
            "\n",
            "2020-04-09 22:45:47 (139 MB/s) - ‘/tmp/sonnets.txt’ saved [93578/93578]\n",
            "\n"
          ],
          "name": "stdout"
        }
      ]
    },
    {
      "cell_type": "code",
      "metadata": {
        "id": "dsAEpeG2OWyO",
        "colab_type": "code",
        "colab": {
          "base_uri": "https://localhost:8080/",
          "height": 34
        },
        "outputId": "a1a9baaf-6e1f-43a1-9f06-3901590277f7"
      },
      "source": [
        "predictors.shape"
      ],
      "execution_count": 6,
      "outputs": [
        {
          "output_type": "execute_result",
          "data": {
            "text/plain": [
              "(15462, 10)"
            ]
          },
          "metadata": {
            "tags": []
          },
          "execution_count": 6
        }
      ]
    },
    {
      "cell_type": "code",
      "metadata": {
        "colab_type": "code",
        "id": "w9vH8Y59ajYL",
        "colab": {
          "base_uri": "https://localhost:8080/",
          "height": 374
        },
        "outputId": "e06211a8-11ac-4cb5-a165-b39c4fd2abd2"
      },
      "source": [
        "model = Sequential()\n",
        "model.add(Embedding(total_words, 100, input_length=max_sequence_len-1))#we are subtracting 1 here because we have removed\n",
        "#the last word in every sentence as label \n",
        "model.add(Bidirectional(LSTM(150, return_sequences=True)))\n",
        "model.add(Dropout(0.2))\n",
        "model.add(LSTM(100))\n",
        "# model.add(Dense(64, input_dim=64,kernel_regularizer=Regularizers.l2(0.01),activity_regularizer=Regularizers.l1(0.01)))# A Dense Layer including regularizers)\n",
        "model.add(Dense(total_words/2, activation='relu', kernel_regularizer=regularizers.l2(0.01)))\n",
        "model.add(Dense(total_words, activation='softmax'))\n",
        "adam=Adam(lr=0.01)# Pick an optimizer\n",
        "model.compile(loss='categorical_crossentropy', optimizer=adam, metrics='accuracy')# Pick a loss function and an optimizer\n",
        "print(model.summary())\n"
      ],
      "execution_count": 11,
      "outputs": [
        {
          "output_type": "stream",
          "text": [
            "Model: \"sequential_5\"\n",
            "_________________________________________________________________\n",
            "Layer (type)                 Output Shape              Param #   \n",
            "=================================================================\n",
            "embedding_5 (Embedding)      (None, 10, 100)           321100    \n",
            "_________________________________________________________________\n",
            "bidirectional_7 (Bidirection (None, 10, 300)           301200    \n",
            "_________________________________________________________________\n",
            "dropout_4 (Dropout)          (None, 10, 300)           0         \n",
            "_________________________________________________________________\n",
            "lstm_10 (LSTM)               (None, 100)               160400    \n",
            "_________________________________________________________________\n",
            "dense_2 (Dense)              (None, 1605)              162105    \n",
            "_________________________________________________________________\n",
            "dense_3 (Dense)              (None, 3211)              5156866   \n",
            "=================================================================\n",
            "Total params: 6,101,671\n",
            "Trainable params: 6,101,671\n",
            "Non-trainable params: 0\n",
            "_________________________________________________________________\n",
            "None\n"
          ],
          "name": "stdout"
        }
      ]
    },
    {
      "cell_type": "code",
      "metadata": {
        "colab_type": "code",
        "id": "AIg2f1HBxqof",
        "colab": {
          "base_uri": "https://localhost:8080/",
          "height": 1000
        },
        "outputId": "102c83e1-f561-4701-8f32-dc7069110154"
      },
      "source": [
        " history = model.fit(predictors, label, epochs=100, verbose=1)"
      ],
      "execution_count": 12,
      "outputs": [
        {
          "output_type": "stream",
          "text": [
            "Epoch 1/100\n",
            "484/484 [==============================] - 6s 13ms/step - loss: 6.8911 - accuracy: 0.0216\n",
            "Epoch 2/100\n",
            "484/484 [==============================] - 6s 13ms/step - loss: 6.5487 - accuracy: 0.0224\n",
            "Epoch 3/100\n",
            "484/484 [==============================] - 6s 13ms/step - loss: 6.4987 - accuracy: 0.0243\n",
            "Epoch 4/100\n",
            "484/484 [==============================] - 6s 13ms/step - loss: 6.4104 - accuracy: 0.0256\n",
            "Epoch 5/100\n",
            "484/484 [==============================] - 6s 13ms/step - loss: 6.3706 - accuracy: 0.0273\n",
            "Epoch 6/100\n",
            "484/484 [==============================] - 6s 13ms/step - loss: 6.3372 - accuracy: 0.0281\n",
            "Epoch 7/100\n",
            "484/484 [==============================] - 6s 13ms/step - loss: 6.3113 - accuracy: 0.0286\n",
            "Epoch 8/100\n",
            "484/484 [==============================] - 6s 13ms/step - loss: 6.2896 - accuracy: 0.0303\n",
            "Epoch 9/100\n",
            "484/484 [==============================] - 6s 13ms/step - loss: 6.2729 - accuracy: 0.0334\n",
            "Epoch 10/100\n",
            "484/484 [==============================] - 6s 13ms/step - loss: 6.2422 - accuracy: 0.0331\n",
            "Epoch 11/100\n",
            "484/484 [==============================] - 6s 13ms/step - loss: 6.2182 - accuracy: 0.0350\n",
            "Epoch 12/100\n",
            "484/484 [==============================] - 6s 13ms/step - loss: 6.1913 - accuracy: 0.0347\n",
            "Epoch 13/100\n",
            "484/484 [==============================] - 6s 13ms/step - loss: 6.1608 - accuracy: 0.0369\n",
            "Epoch 14/100\n",
            "484/484 [==============================] - 6s 13ms/step - loss: 6.1233 - accuracy: 0.0374\n",
            "Epoch 15/100\n",
            "484/484 [==============================] - 6s 13ms/step - loss: 6.1053 - accuracy: 0.0354\n",
            "Epoch 16/100\n",
            "484/484 [==============================] - 6s 13ms/step - loss: 6.0915 - accuracy: 0.0377\n",
            "Epoch 17/100\n",
            "484/484 [==============================] - 6s 13ms/step - loss: 6.0715 - accuracy: 0.0395\n",
            "Epoch 18/100\n",
            "484/484 [==============================] - 6s 13ms/step - loss: 6.0577 - accuracy: 0.0397\n",
            "Epoch 19/100\n",
            "484/484 [==============================] - 6s 13ms/step - loss: 6.0394 - accuracy: 0.0398\n",
            "Epoch 20/100\n",
            "484/484 [==============================] - 6s 13ms/step - loss: 6.0177 - accuracy: 0.0413\n",
            "Epoch 21/100\n",
            "484/484 [==============================] - 6s 13ms/step - loss: 5.9957 - accuracy: 0.0431\n",
            "Epoch 22/100\n",
            "484/484 [==============================] - 6s 13ms/step - loss: 5.9755 - accuracy: 0.0443\n",
            "Epoch 23/100\n",
            "484/484 [==============================] - 6s 13ms/step - loss: 5.9731 - accuracy: 0.0419\n",
            "Epoch 24/100\n",
            "484/484 [==============================] - 6s 13ms/step - loss: 5.9562 - accuracy: 0.0425\n",
            "Epoch 25/100\n",
            "484/484 [==============================] - 6s 13ms/step - loss: 5.9430 - accuracy: 0.0441\n",
            "Epoch 26/100\n",
            "484/484 [==============================] - 6s 13ms/step - loss: 5.9324 - accuracy: 0.0422\n",
            "Epoch 27/100\n",
            "484/484 [==============================] - 6s 13ms/step - loss: 5.9236 - accuracy: 0.0440\n",
            "Epoch 28/100\n",
            "484/484 [==============================] - 6s 13ms/step - loss: 5.9091 - accuracy: 0.0444\n",
            "Epoch 29/100\n",
            "484/484 [==============================] - 6s 13ms/step - loss: 5.8984 - accuracy: 0.0467\n",
            "Epoch 30/100\n",
            "484/484 [==============================] - 6s 13ms/step - loss: 5.8860 - accuracy: 0.0455\n",
            "Epoch 31/100\n",
            "484/484 [==============================] - 6s 13ms/step - loss: 5.8910 - accuracy: 0.0458\n",
            "Epoch 32/100\n",
            "484/484 [==============================] - 6s 13ms/step - loss: 5.8755 - accuracy: 0.0469\n",
            "Epoch 33/100\n",
            "484/484 [==============================] - 6s 13ms/step - loss: 5.8725 - accuracy: 0.0466\n",
            "Epoch 34/100\n",
            "484/484 [==============================] - 6s 13ms/step - loss: 5.8529 - accuracy: 0.0474\n",
            "Epoch 35/100\n",
            "484/484 [==============================] - 6s 13ms/step - loss: 5.8443 - accuracy: 0.0481\n",
            "Epoch 36/100\n",
            "484/484 [==============================] - 6s 13ms/step - loss: 5.8407 - accuracy: 0.0477\n",
            "Epoch 37/100\n",
            "484/484 [==============================] - 6s 13ms/step - loss: 5.8215 - accuracy: 0.0467\n",
            "Epoch 38/100\n",
            "484/484 [==============================] - 6s 13ms/step - loss: 5.8228 - accuracy: 0.0478\n",
            "Epoch 39/100\n",
            "484/484 [==============================] - 6s 13ms/step - loss: 5.8145 - accuracy: 0.0478\n",
            "Epoch 40/100\n",
            "484/484 [==============================] - 6s 13ms/step - loss: 5.8124 - accuracy: 0.0497\n",
            "Epoch 41/100\n",
            "484/484 [==============================] - 6s 13ms/step - loss: 5.8021 - accuracy: 0.0471\n",
            "Epoch 42/100\n",
            "484/484 [==============================] - 6s 13ms/step - loss: 5.7974 - accuracy: 0.0476\n",
            "Epoch 43/100\n",
            "484/484 [==============================] - 6s 13ms/step - loss: 5.7830 - accuracy: 0.0478\n",
            "Epoch 44/100\n",
            "484/484 [==============================] - 6s 13ms/step - loss: 5.7913 - accuracy: 0.0492\n",
            "Epoch 45/100\n",
            "484/484 [==============================] - 6s 13ms/step - loss: 5.7758 - accuracy: 0.0508\n",
            "Epoch 46/100\n",
            "484/484 [==============================] - 6s 13ms/step - loss: 5.7713 - accuracy: 0.0506\n",
            "Epoch 47/100\n",
            "484/484 [==============================] - 6s 13ms/step - loss: 5.7715 - accuracy: 0.0506\n",
            "Epoch 48/100\n",
            "484/484 [==============================] - 6s 13ms/step - loss: 5.7686 - accuracy: 0.0510\n",
            "Epoch 49/100\n",
            "484/484 [==============================] - 6s 13ms/step - loss: 5.7592 - accuracy: 0.0515\n",
            "Epoch 50/100\n",
            "484/484 [==============================] - 6s 13ms/step - loss: 5.7551 - accuracy: 0.0493\n",
            "Epoch 51/100\n",
            "484/484 [==============================] - 6s 13ms/step - loss: 5.7661 - accuracy: 0.0514\n",
            "Epoch 52/100\n",
            "484/484 [==============================] - 6s 13ms/step - loss: 5.7496 - accuracy: 0.0500\n",
            "Epoch 53/100\n",
            "484/484 [==============================] - 6s 13ms/step - loss: 5.7561 - accuracy: 0.0513\n",
            "Epoch 54/100\n",
            "484/484 [==============================] - 7s 14ms/step - loss: 5.7554 - accuracy: 0.0508\n",
            "Epoch 55/100\n",
            "484/484 [==============================] - 7s 14ms/step - loss: 5.7576 - accuracy: 0.0525\n",
            "Epoch 56/100\n",
            "484/484 [==============================] - 6s 13ms/step - loss: 5.7405 - accuracy: 0.0519\n",
            "Epoch 57/100\n",
            "484/484 [==============================] - 6s 13ms/step - loss: 5.7441 - accuracy: 0.0516\n",
            "Epoch 58/100\n",
            "484/484 [==============================] - 6s 13ms/step - loss: 5.7447 - accuracy: 0.0514\n",
            "Epoch 59/100\n",
            "484/484 [==============================] - 6s 13ms/step - loss: 5.7372 - accuracy: 0.0498\n",
            "Epoch 60/100\n",
            "484/484 [==============================] - 6s 13ms/step - loss: 5.7373 - accuracy: 0.0514\n",
            "Epoch 61/100\n",
            "484/484 [==============================] - 6s 13ms/step - loss: 5.7395 - accuracy: 0.0522\n",
            "Epoch 62/100\n",
            "484/484 [==============================] - 6s 13ms/step - loss: 5.7417 - accuracy: 0.0519\n",
            "Epoch 63/100\n",
            "484/484 [==============================] - 6s 13ms/step - loss: 5.7263 - accuracy: 0.0528\n",
            "Epoch 64/100\n",
            "484/484 [==============================] - 6s 13ms/step - loss: 5.7288 - accuracy: 0.0523\n",
            "Epoch 65/100\n",
            "484/484 [==============================] - 6s 13ms/step - loss: 5.7256 - accuracy: 0.0528\n",
            "Epoch 66/100\n",
            "484/484 [==============================] - 6s 13ms/step - loss: 5.7345 - accuracy: 0.0515\n",
            "Epoch 67/100\n",
            "484/484 [==============================] - 6s 13ms/step - loss: 5.7172 - accuracy: 0.0511\n",
            "Epoch 68/100\n",
            "484/484 [==============================] - 6s 13ms/step - loss: 5.7284 - accuracy: 0.0538\n",
            "Epoch 69/100\n",
            "484/484 [==============================] - 6s 13ms/step - loss: 5.7086 - accuracy: 0.0551\n",
            "Epoch 70/100\n",
            "484/484 [==============================] - 6s 13ms/step - loss: 5.7157 - accuracy: 0.0541\n",
            "Epoch 71/100\n",
            "484/484 [==============================] - 6s 13ms/step - loss: 5.7181 - accuracy: 0.0533\n",
            "Epoch 72/100\n",
            "484/484 [==============================] - 6s 13ms/step - loss: 5.7162 - accuracy: 0.0555\n",
            "Epoch 73/100\n",
            "484/484 [==============================] - 6s 13ms/step - loss: 5.7120 - accuracy: 0.0553\n",
            "Epoch 74/100\n",
            "484/484 [==============================] - 6s 13ms/step - loss: 5.7197 - accuracy: 0.0545\n",
            "Epoch 75/100\n",
            "484/484 [==============================] - 6s 13ms/step - loss: 5.7186 - accuracy: 0.0572\n",
            "Epoch 76/100\n",
            "484/484 [==============================] - 6s 13ms/step - loss: 5.7205 - accuracy: 0.0557\n",
            "Epoch 77/100\n",
            "484/484 [==============================] - 6s 13ms/step - loss: 5.6815 - accuracy: 0.0552\n",
            "Epoch 78/100\n",
            "484/484 [==============================] - 6s 13ms/step - loss: 5.6993 - accuracy: 0.0545\n",
            "Epoch 79/100\n",
            "484/484 [==============================] - 6s 13ms/step - loss: 5.6876 - accuracy: 0.0551\n",
            "Epoch 80/100\n",
            "484/484 [==============================] - 6s 13ms/step - loss: 5.7077 - accuracy: 0.0545\n",
            "Epoch 81/100\n",
            "484/484 [==============================] - 6s 13ms/step - loss: 5.6974 - accuracy: 0.0550\n",
            "Epoch 82/100\n",
            "484/484 [==============================] - 6s 13ms/step - loss: 5.6999 - accuracy: 0.0560\n",
            "Epoch 83/100\n",
            "484/484 [==============================] - 6s 13ms/step - loss: 5.6938 - accuracy: 0.0570\n",
            "Epoch 84/100\n",
            "484/484 [==============================] - 6s 13ms/step - loss: 5.7019 - accuracy: 0.0563\n",
            "Epoch 85/100\n",
            "484/484 [==============================] - 6s 13ms/step - loss: 5.6973 - accuracy: 0.0562\n",
            "Epoch 86/100\n",
            "484/484 [==============================] - 6s 13ms/step - loss: 5.7040 - accuracy: 0.0548\n",
            "Epoch 87/100\n",
            "484/484 [==============================] - 6s 13ms/step - loss: 5.7104 - accuracy: 0.0564\n",
            "Epoch 88/100\n",
            "484/484 [==============================] - 6s 13ms/step - loss: 5.7030 - accuracy: 0.0574\n",
            "Epoch 89/100\n",
            "484/484 [==============================] - 6s 13ms/step - loss: 5.7146 - accuracy: 0.0560\n",
            "Epoch 90/100\n",
            "484/484 [==============================] - 6s 13ms/step - loss: 5.7082 - accuracy: 0.0572\n",
            "Epoch 91/100\n",
            "484/484 [==============================] - 6s 13ms/step - loss: 5.7054 - accuracy: 0.0587\n",
            "Epoch 92/100\n",
            "484/484 [==============================] - 6s 13ms/step - loss: 5.7129 - accuracy: 0.0573\n",
            "Epoch 93/100\n",
            "484/484 [==============================] - 6s 13ms/step - loss: 5.7031 - accuracy: 0.0583\n",
            "Epoch 94/100\n",
            "484/484 [==============================] - 6s 13ms/step - loss: 5.7039 - accuracy: 0.0579\n",
            "Epoch 95/100\n",
            "484/484 [==============================] - 6s 13ms/step - loss: 5.6890 - accuracy: 0.0578\n",
            "Epoch 96/100\n",
            "484/484 [==============================] - 7s 14ms/step - loss: 5.6861 - accuracy: 0.0576\n",
            "Epoch 97/100\n",
            "484/484 [==============================] - 7s 13ms/step - loss: 5.6922 - accuracy: 0.0582\n",
            "Epoch 98/100\n",
            "484/484 [==============================] - 6s 13ms/step - loss: 5.6956 - accuracy: 0.0572\n",
            "Epoch 99/100\n",
            "484/484 [==============================] - 7s 14ms/step - loss: 5.6953 - accuracy: 0.0576\n",
            "Epoch 100/100\n",
            "484/484 [==============================] - 7s 13ms/step - loss: 5.6912 - accuracy: 0.0579\n"
          ],
          "name": "stdout"
        }
      ]
    },
    {
      "cell_type": "code",
      "metadata": {
        "colab_type": "code",
        "id": "1fXTEO3GJ282",
        "colab": {
          "base_uri": "https://localhost:8080/",
          "height": 545
        },
        "outputId": "6cb71484-44da-4136-8d23-1c43911ce617"
      },
      "source": [
        "import matplotlib.pyplot as plt\n",
        "acc = history.history['accuracy']\n",
        "loss = history.history['loss']\n",
        "\n",
        "epochs = range(len(acc))\n",
        "\n",
        "plt.plot(epochs, acc, 'b', label='Training accuracy')\n",
        "plt.title('Training accuracy')\n",
        "\n",
        "plt.figure()\n",
        "\n",
        "plt.plot(epochs, loss, 'b', label='Training Loss')\n",
        "plt.title('Training loss')\n",
        "plt.legend()\n",
        "\n",
        "plt.show()"
      ],
      "execution_count": 13,
      "outputs": [
        {
          "output_type": "display_data",
          "data": {
            "image/png": "[encoded data removed]",
            "text/plain": [
              "<Figure size 432x288 with 1 Axes>"
            ]
          },
          "metadata": {
            "tags": []
          }
        },
        {
          "output_type": "display_data",
          "data": {
            "image/png": "[encoded data removed]",
            "text/plain": [
              "<Figure size 432x288 with 1 Axes>"
            ]
          },
          "metadata": {
            "tags": []
          }
        }
      ]
    },
    {
      "cell_type": "code",
      "metadata": {
        "colab_type": "code",
        "id": "6Vc6PHgxa6Hm",
        "colab": {
          "base_uri": "https://localhost:8080/",
          "height": 105
        },
        "outputId": "1806e1fd-b5ed-40a7-bc75-708841b97407"
      },
      "source": [
        "#outcome of the seed text without - with learning rate chosen for Adam optimizer \n",
        "seed_text = \"Help me Obi Wan Kenobi, you're my only hope\"\n",
        "next_words = 100\n",
        "  \n",
        "for _ in range(next_words):\n",
        "\ttoken_list = tokenizer.texts_to_sequences([seed_text])[0]\n",
        "\ttoken_list = pad_sequences([token_list], maxlen=max_sequence_len-1, padding='pre')\n",
        "\tpredicted = model.predict_classes(token_list, verbose=0)\n",
        "\toutput_word = \"\"\n",
        "\tfor word, index in tokenizer.word_index.items():\n",
        "\t\tif index == predicted:\n",
        "\t\t\toutput_word = word\n",
        "\t\t\tbreak\n",
        "\tseed_text += \" \" + output_word\n",
        "print(seed_text)"
      ],
      "execution_count": 14,
      "outputs": [
        {
          "output_type": "stream",
          "text": [
            "WARNING:tensorflow:From <ipython-input-14-622d307fa19a>:7: Sequential.predict_classes (from tensorflow.python.keras.engine.sequential) is deprecated and will be removed after 2021-01-01.\n",
            "Instructions for updating:\n",
            "Please use instead:* `np.argmax(model.predict(x), axis=-1)`,   if your model does multi-class classification   (e.g. if it uses a `softmax` last-layer activation).* `(model.predict(x) > 0.5).astype(\"int32\")`,   if your model does binary classification   (e.g. if it uses a `sigmoid` last-layer activation).\n",
            "Help me Obi Wan Kenobi, you're my only hope to be i love in eyes in eye in eye in eye in eye in eye in eye in eye in eye in eye in eye in eye in eye in eye in eye in eye in eye in eye in eye in eye in eye in eye in eye in eye in eye in eye in eye in eye in eye in eye in eye in eye in eye in eye in eye in eye in eye in eye in eye in eye in eye in eye in eye in eye in eye in eye in eye in eye\n"
          ],
          "name": "stdout"
        }
      ]
    },
    {
      "cell_type": "code",
      "metadata": {
        "id": "SE4KNKmHTXHe",
        "colab_type": "code",
        "colab": {
          "base_uri": "https://localhost:8080/",
          "height": 374
        },
        "outputId": "cd35b10e-7e61-4ec2-c7ae-9c8068eca0c9"
      },
      "source": [
        "model = Sequential()\n",
        "model.add(Embedding(total_words, 100, input_length=max_sequence_len-1))#we are subtracting 1 here because we have removed\n",
        "#the last word in every sentence as label \n",
        "model.add(Bidirectional(LSTM(150, return_sequences=True)))\n",
        "model.add(Dropout(0.2))\n",
        "model.add(LSTM(100))\n",
        "# model.add(Dense(64, input_dim=64,kernel_regularizer=Regularizers.l2(0.01),activity_regularizer=Regularizers.l1(0.01)))# A Dense Layer including regularizers)\n",
        "model.add(Dense(total_words/2, activation='relu', kernel_regularizer=regularizers.l2(0.01)))\n",
        "model.add(Dense(total_words, activation='softmax'))\n",
        "adam=Adam()# Pick an optimizer\n",
        "model.compile(loss='categorical_crossentropy', optimizer=adam, metrics='accuracy')# Pick a loss function and an optimizer\n",
        "print(model.summary())\n"
      ],
      "execution_count": 17,
      "outputs": [
        {
          "output_type": "stream",
          "text": [
            "Model: \"sequential_7\"\n",
            "_________________________________________________________________\n",
            "Layer (type)                 Output Shape              Param #   \n",
            "=================================================================\n",
            "embedding_7 (Embedding)      (None, 10, 100)           321100    \n",
            "_________________________________________________________________\n",
            "bidirectional_9 (Bidirection (None, 10, 300)           301200    \n",
            "_________________________________________________________________\n",
            "dropout_6 (Dropout)          (None, 10, 300)           0         \n",
            "_________________________________________________________________\n",
            "lstm_14 (LSTM)               (None, 100)               160400    \n",
            "_________________________________________________________________\n",
            "dense_6 (Dense)              (None, 1605)              162105    \n",
            "_________________________________________________________________\n",
            "dense_7 (Dense)              (None, 3211)              5156866   \n",
            "=================================================================\n",
            "Total params: 6,101,671\n",
            "Trainable params: 6,101,671\n",
            "Non-trainable params: 0\n",
            "_________________________________________________________________\n",
            "None\n"
          ],
          "name": "stdout"
        }
      ]
    },
    {
      "cell_type": "code",
      "metadata": {
        "id": "L2Jy8s3JT0g8",
        "colab_type": "code",
        "colab": {
          "base_uri": "https://localhost:8080/",
          "height": 1000
        },
        "outputId": "a20f327d-159d-476f-9e37-0fe17fed54dc"
      },
      "source": [
        "history = model.fit(predictors, label, epochs=100, verbose=1)"
      ],
      "execution_count": 18,
      "outputs": [
        {
          "output_type": "stream",
          "text": [
            "Epoch 1/100\n",
            "484/484 [==============================] - 6s 13ms/step - loss: 6.8945 - accuracy: 0.0225\n",
            "Epoch 2/100\n",
            "484/484 [==============================] - 6s 13ms/step - loss: 6.4962 - accuracy: 0.0224\n",
            "Epoch 3/100\n",
            "484/484 [==============================] - 6s 13ms/step - loss: 6.3954 - accuracy: 0.0228\n",
            "Epoch 4/100\n",
            "484/484 [==============================] - 7s 14ms/step - loss: 6.2766 - accuracy: 0.0287\n",
            "Epoch 5/100\n",
            "484/484 [==============================] - 6s 13ms/step - loss: 6.1686 - accuracy: 0.0358\n",
            "Epoch 6/100\n",
            "484/484 [==============================] - 6s 13ms/step - loss: 6.0819 - accuracy: 0.0374\n",
            "Epoch 7/100\n",
            "484/484 [==============================] - 6s 13ms/step - loss: 5.9974 - accuracy: 0.0413\n",
            "Epoch 8/100\n",
            "484/484 [==============================] - 6s 13ms/step - loss: 5.9162 - accuracy: 0.0437\n",
            "Epoch 9/100\n",
            "484/484 [==============================] - 6s 13ms/step - loss: 5.8094 - accuracy: 0.0510\n",
            "Epoch 10/100\n",
            "484/484 [==============================] - 6s 13ms/step - loss: 5.6946 - accuracy: 0.0605\n",
            "Epoch 11/100\n",
            "484/484 [==============================] - 6s 13ms/step - loss: 5.5747 - accuracy: 0.0670\n",
            "Epoch 12/100\n",
            "484/484 [==============================] - 6s 13ms/step - loss: 5.4634 - accuracy: 0.0742\n",
            "Epoch 13/100\n",
            "484/484 [==============================] - 6s 13ms/step - loss: 5.3480 - accuracy: 0.0835\n",
            "Epoch 14/100\n",
            "484/484 [==============================] - 6s 13ms/step - loss: 5.2395 - accuracy: 0.0921\n",
            "Epoch 15/100\n",
            "484/484 [==============================] - 6s 13ms/step - loss: 5.1311 - accuracy: 0.0988\n",
            "Epoch 16/100\n",
            "484/484 [==============================] - 6s 13ms/step - loss: 5.0278 - accuracy: 0.1037\n",
            "Epoch 17/100\n",
            "484/484 [==============================] - 6s 13ms/step - loss: 4.9236 - accuracy: 0.1125\n",
            "Epoch 18/100\n",
            "484/484 [==============================] - 6s 13ms/step - loss: 4.8267 - accuracy: 0.1210\n",
            "Epoch 19/100\n",
            "484/484 [==============================] - 6s 13ms/step - loss: 4.7282 - accuracy: 0.1325\n",
            "Epoch 20/100\n",
            "484/484 [==============================] - 6s 13ms/step - loss: 4.6311 - accuracy: 0.1422\n",
            "Epoch 21/100\n",
            "484/484 [==============================] - 6s 13ms/step - loss: 4.5441 - accuracy: 0.1529\n",
            "Epoch 22/100\n",
            "484/484 [==============================] - 6s 13ms/step - loss: 4.4396 - accuracy: 0.1638\n",
            "Epoch 23/100\n",
            "484/484 [==============================] - 6s 13ms/step - loss: 4.3430 - accuracy: 0.1734\n",
            "Epoch 24/100\n",
            "484/484 [==============================] - 6s 13ms/step - loss: 4.2530 - accuracy: 0.1835\n",
            "Epoch 25/100\n",
            "484/484 [==============================] - 6s 13ms/step - loss: 4.1619 - accuracy: 0.1956\n",
            "Epoch 26/100\n",
            "484/484 [==============================] - 6s 13ms/step - loss: 4.0681 - accuracy: 0.2039\n",
            "Epoch 27/100\n",
            "484/484 [==============================] - 6s 13ms/step - loss: 3.9766 - accuracy: 0.2211\n",
            "Epoch 28/100\n",
            "484/484 [==============================] - 6s 13ms/step - loss: 3.8850 - accuracy: 0.2315\n",
            "Epoch 29/100\n",
            "484/484 [==============================] - 6s 13ms/step - loss: 3.7998 - accuracy: 0.2455\n",
            "Epoch 30/100\n",
            "484/484 [==============================] - 6s 13ms/step - loss: 3.7058 - accuracy: 0.2607\n",
            "Epoch 31/100\n",
            "484/484 [==============================] - 6s 13ms/step - loss: 3.6237 - accuracy: 0.2766\n",
            "Epoch 32/100\n",
            "484/484 [==============================] - 6s 13ms/step - loss: 3.5385 - accuracy: 0.2919\n",
            "Epoch 33/100\n",
            "484/484 [==============================] - 6s 13ms/step - loss: 3.4599 - accuracy: 0.3084\n",
            "Epoch 34/100\n",
            "484/484 [==============================] - 6s 13ms/step - loss: 3.3762 - accuracy: 0.3236\n",
            "Epoch 35/100\n",
            "484/484 [==============================] - 6s 13ms/step - loss: 3.3082 - accuracy: 0.3393\n",
            "Epoch 36/100\n",
            "484/484 [==============================] - 6s 13ms/step - loss: 3.2301 - accuracy: 0.3559\n",
            "Epoch 37/100\n",
            "484/484 [==============================] - 6s 13ms/step - loss: 3.1487 - accuracy: 0.3769\n",
            "Epoch 38/100\n",
            "484/484 [==============================] - 6s 13ms/step - loss: 3.0859 - accuracy: 0.3869\n",
            "Epoch 39/100\n",
            "484/484 [==============================] - 6s 13ms/step - loss: 3.0252 - accuracy: 0.4007\n",
            "Epoch 40/100\n",
            "484/484 [==============================] - 6s 13ms/step - loss: 2.9632 - accuracy: 0.4153\n",
            "Epoch 41/100\n",
            "484/484 [==============================] - 6s 13ms/step - loss: 2.8907 - accuracy: 0.4348\n",
            "Epoch 42/100\n",
            "484/484 [==============================] - 6s 13ms/step - loss: 2.8358 - accuracy: 0.4433\n",
            "Epoch 43/100\n",
            "484/484 [==============================] - 6s 13ms/step - loss: 2.7675 - accuracy: 0.4601\n",
            "Epoch 44/100\n",
            "484/484 [==============================] - 6s 13ms/step - loss: 2.7183 - accuracy: 0.4699\n",
            "Epoch 45/100\n",
            "484/484 [==============================] - 6s 13ms/step - loss: 2.6457 - accuracy: 0.4884\n",
            "Epoch 46/100\n",
            "484/484 [==============================] - 6s 13ms/step - loss: 2.6062 - accuracy: 0.4966\n",
            "Epoch 47/100\n",
            "484/484 [==============================] - 6s 13ms/step - loss: 2.5426 - accuracy: 0.5152\n",
            "Epoch 48/100\n",
            "484/484 [==============================] - 6s 13ms/step - loss: 2.4962 - accuracy: 0.5208\n",
            "Epoch 49/100\n",
            "484/484 [==============================] - 6s 13ms/step - loss: 2.4423 - accuracy: 0.5340\n",
            "Epoch 50/100\n",
            "484/484 [==============================] - 6s 13ms/step - loss: 2.3846 - accuracy: 0.5466\n",
            "Epoch 51/100\n",
            "484/484 [==============================] - 6s 13ms/step - loss: 2.3522 - accuracy: 0.5566\n",
            "Epoch 52/100\n",
            "484/484 [==============================] - 6s 13ms/step - loss: 2.3077 - accuracy: 0.5664\n",
            "Epoch 53/100\n",
            "484/484 [==============================] - 6s 13ms/step - loss: 2.2577 - accuracy: 0.5776\n",
            "Epoch 54/100\n",
            "484/484 [==============================] - 6s 13ms/step - loss: 2.2216 - accuracy: 0.5823\n",
            "Epoch 55/100\n",
            "484/484 [==============================] - 6s 13ms/step - loss: 2.1677 - accuracy: 0.5955\n",
            "Epoch 56/100\n",
            "484/484 [==============================] - 6s 13ms/step - loss: 2.1232 - accuracy: 0.6106\n",
            "Epoch 57/100\n",
            "484/484 [==============================] - 6s 13ms/step - loss: 2.0920 - accuracy: 0.6146\n",
            "Epoch 58/100\n",
            "484/484 [==============================] - 6s 13ms/step - loss: 2.0636 - accuracy: 0.6218\n",
            "Epoch 59/100\n",
            "484/484 [==============================] - 6s 13ms/step - loss: 2.0222 - accuracy: 0.6303\n",
            "Epoch 60/100\n",
            "484/484 [==============================] - 6s 13ms/step - loss: 1.9853 - accuracy: 0.6417\n",
            "Epoch 61/100\n",
            "484/484 [==============================] - 6s 13ms/step - loss: 1.9436 - accuracy: 0.6475\n",
            "Epoch 62/100\n",
            "484/484 [==============================] - 6s 13ms/step - loss: 1.9221 - accuracy: 0.6528\n",
            "Epoch 63/100\n",
            "484/484 [==============================] - 6s 13ms/step - loss: 1.8735 - accuracy: 0.6631\n",
            "Epoch 64/100\n",
            "484/484 [==============================] - 6s 13ms/step - loss: 1.8377 - accuracy: 0.6743\n",
            "Epoch 65/100\n",
            "484/484 [==============================] - 6s 13ms/step - loss: 1.7975 - accuracy: 0.6777\n",
            "Epoch 66/100\n",
            "484/484 [==============================] - 6s 13ms/step - loss: 1.7800 - accuracy: 0.6874\n",
            "Epoch 67/100\n",
            "484/484 [==============================] - 6s 13ms/step - loss: 1.7624 - accuracy: 0.6865\n",
            "Epoch 68/100\n",
            "484/484 [==============================] - 6s 13ms/step - loss: 1.7290 - accuracy: 0.6931\n",
            "Epoch 69/100\n",
            "484/484 [==============================] - 6s 13ms/step - loss: 1.7057 - accuracy: 0.6999\n",
            "Epoch 70/100\n",
            "484/484 [==============================] - 6s 13ms/step - loss: 1.6886 - accuracy: 0.6998\n",
            "Epoch 71/100\n",
            "484/484 [==============================] - 6s 13ms/step - loss: 1.6567 - accuracy: 0.7123\n",
            "Epoch 72/100\n",
            "484/484 [==============================] - 6s 13ms/step - loss: 1.6291 - accuracy: 0.7165\n",
            "Epoch 73/100\n",
            "484/484 [==============================] - 6s 13ms/step - loss: 1.6010 - accuracy: 0.7200\n",
            "Epoch 74/100\n",
            "484/484 [==============================] - 6s 13ms/step - loss: 1.5847 - accuracy: 0.7236\n",
            "Epoch 75/100\n",
            "484/484 [==============================] - 6s 13ms/step - loss: 1.5623 - accuracy: 0.7267\n",
            "Epoch 76/100\n",
            "484/484 [==============================] - 6s 13ms/step - loss: 1.5377 - accuracy: 0.7317\n",
            "Epoch 77/100\n",
            "484/484 [==============================] - 6s 13ms/step - loss: 1.5040 - accuracy: 0.7378\n",
            "Epoch 78/100\n",
            "484/484 [==============================] - 6s 13ms/step - loss: 1.4889 - accuracy: 0.7434\n",
            "Epoch 79/100\n",
            "484/484 [==============================] - 6s 13ms/step - loss: 1.4742 - accuracy: 0.7454\n",
            "Epoch 80/100\n",
            "484/484 [==============================] - 6s 13ms/step - loss: 1.4690 - accuracy: 0.7451\n",
            "Epoch 81/100\n",
            "484/484 [==============================] - 6s 13ms/step - loss: 1.4384 - accuracy: 0.7513\n",
            "Epoch 82/100\n",
            "484/484 [==============================] - 7s 14ms/step - loss: 1.4319 - accuracy: 0.7509\n",
            "Epoch 83/100\n",
            "484/484 [==============================] - 6s 13ms/step - loss: 1.4009 - accuracy: 0.7607\n",
            "Epoch 84/100\n",
            "484/484 [==============================] - 6s 13ms/step - loss: 1.3787 - accuracy: 0.7627\n",
            "Epoch 85/100\n",
            "484/484 [==============================] - 6s 13ms/step - loss: 1.3749 - accuracy: 0.7623\n",
            "Epoch 86/100\n",
            "484/484 [==============================] - 6s 13ms/step - loss: 1.3621 - accuracy: 0.7636\n",
            "Epoch 87/100\n",
            "484/484 [==============================] - 7s 13ms/step - loss: 1.3531 - accuracy: 0.7662\n",
            "Epoch 88/100\n",
            "484/484 [==============================] - 7s 14ms/step - loss: 1.3375 - accuracy: 0.7649\n",
            "Epoch 89/100\n",
            "484/484 [==============================] - 7s 13ms/step - loss: 1.3052 - accuracy: 0.7744\n",
            "Epoch 90/100\n",
            "484/484 [==============================] - 7s 14ms/step - loss: 1.3055 - accuracy: 0.7727\n",
            "Epoch 91/100\n",
            "484/484 [==============================] - 6s 13ms/step - loss: 1.2869 - accuracy: 0.7784\n",
            "Epoch 92/100\n",
            "484/484 [==============================] - 6s 13ms/step - loss: 1.2708 - accuracy: 0.7787\n",
            "Epoch 93/100\n",
            "484/484 [==============================] - 6s 13ms/step - loss: 1.2691 - accuracy: 0.7824\n",
            "Epoch 94/100\n",
            "484/484 [==============================] - 6s 13ms/step - loss: 1.2775 - accuracy: 0.7797\n",
            "Epoch 95/100\n",
            "484/484 [==============================] - 6s 13ms/step - loss: 1.2342 - accuracy: 0.7886\n",
            "Epoch 96/100\n",
            "484/484 [==============================] - 6s 13ms/step - loss: 1.2261 - accuracy: 0.7879\n",
            "Epoch 97/100\n",
            "484/484 [==============================] - 6s 13ms/step - loss: 1.2028 - accuracy: 0.7930\n",
            "Epoch 98/100\n",
            "484/484 [==============================] - 6s 13ms/step - loss: 1.1974 - accuracy: 0.7941\n",
            "Epoch 99/100\n",
            "484/484 [==============================] - 6s 13ms/step - loss: 1.1969 - accuracy: 0.7925\n",
            "Epoch 100/100\n",
            "484/484 [==============================] - 6s 13ms/step - loss: 1.1923 - accuracy: 0.7951\n"
          ],
          "name": "stdout"
        }
      ]
    },
    {
      "cell_type": "code",
      "metadata": {
        "id": "QBSEYYbdYUKM",
        "colab_type": "code",
        "colab": {
          "base_uri": "https://localhost:8080/",
          "height": 545
        },
        "outputId": "1b95fc95-18f1-4760-8e32-672cfc994e55"
      },
      "source": [
        "import matplotlib.pyplot as plt\n",
        "acc = history.history['accuracy']\n",
        "loss = history.history['loss']\n",
        "\n",
        "epochs = range(len(acc))\n",
        "\n",
        "plt.plot(epochs, acc, 'b', label='Training accuracy')\n",
        "plt.title('Training accuracy')\n",
        "\n",
        "plt.figure()\n",
        "\n",
        "plt.plot(epochs, loss, 'b', label='Training Loss')\n",
        "plt.title('Training loss')\n",
        "plt.legend()\n",
        "\n",
        "plt.show()"
      ],
      "execution_count": 19,
      "outputs": [
        {
          "output_type": "display_data",
          "data": {
            "image/png": "[encoded data removed]",
            "text/plain": [
              "<Figure size 432x288 with 1 Axes>"
            ]
          },
          "metadata": {
            "tags": []
          }
        },
        {
          "output_type": "display_data",
          "data": {
            "image/png": "[encoded data removed]",
            "text/plain": [
              "<Figure size 432x288 with 1 Axes>"
            ]
          },
          "metadata": {
            "tags": []
          }
        }
      ]
    },
    {
      "cell_type": "code",
      "metadata": {
        "id": "9GpsKR-ZYbZn",
        "colab_type": "code",
        "colab": {
          "base_uri": "https://localhost:8080/",
          "height": 54
        },
        "outputId": "1a93c85e-4346-42fb-e77e-7a9bbfb27de8"
      },
      "source": [
        "#outcome of the seed text without - with learning rate chosen for Adam optimizer \n",
        "seed_text = \"Help me Obi Wan Kenobi, you're my only hope\"\n",
        "next_words = 100\n",
        "  \n",
        "for _ in range(next_words):\n",
        "\ttoken_list = tokenizer.texts_to_sequences([seed_text])[0]\n",
        "\ttoken_list = pad_sequences([token_list], maxlen=max_sequence_len-1, padding='pre')\n",
        "\tpredicted = model.predict_classes(token_list, verbose=0)\n",
        "\toutput_word = \"\"\n",
        "\tfor word, index in tokenizer.word_index.items():\n",
        "\t\tif index == predicted:\n",
        "\t\t\toutput_word = word\n",
        "\t\t\tbreak\n",
        "\tseed_text += \" \" + output_word\n",
        "print(seed_text)"
      ],
      "execution_count": 20,
      "outputs": [
        {
          "output_type": "stream",
          "text": [
            "Help me Obi Wan Kenobi, you're my only hope set some place doth quite place day can spend despair in pleasure dead near alone would ye brought and short bear days arising bred another brow light light ' did brought a date part cold shows must ride none none afford afford gone saith thine eyes lies alone alone contains thee things live set so dead too substance still can ride 'will ' esteem are erred ' decays confounds invention die tongue rolling spent sea things rare strife strife light torn kill me are appear how are remain bow twain light afford live after spent light light did hell did\n"
          ],
          "name": "stdout"
        }
      ]
    },
    {
      "cell_type": "code",
      "metadata": {
        "id": "HbjDcvDHY2_G",
        "colab_type": "code",
        "colab": {
          "base_uri": "https://localhost:8080/",
          "height": 34
        },
        "outputId": "57696107-826f-49b3-b143-c17301626385"
      },
      "source": [
        "#outcome of the seed text without - with learning rate chosen for Adam optimizer \n",
        "seed_text = \"Help me Obi Wan Kenobi, you're my only hope\"\n",
        "next_words = 10\n",
        "  \n",
        "for _ in range(next_words):\n",
        "\ttoken_list = tokenizer.texts_to_sequences([seed_text])[0]\n",
        "\ttoken_list = pad_sequences([token_list], maxlen=max_sequence_len-1, padding='pre')\n",
        "\tpredicted = model.predict_classes(token_list, verbose=0)\n",
        "\toutput_word = \"\"\n",
        "\tfor word, index in tokenizer.word_index.items():\n",
        "\t\tif index == predicted:\n",
        "\t\t\toutput_word = word\n",
        "\t\t\tbreak\n",
        "\tseed_text += \" \" + output_word\n",
        "print(seed_text)"
      ],
      "execution_count": 21,
      "outputs": [
        {
          "output_type": "stream",
          "text": [
            "Help me Obi Wan Kenobi, you're my only hope set some place doth quite place day can spend despair\n"
          ],
          "name": "stdout"
        }
      ]
    },
    {
      "cell_type": "code",
      "metadata": {
        "id": "lIm7ZxrsZCwS",
        "colab_type": "code",
        "colab": {}
      },
      "source": [
        ""
      ],
      "execution_count": 0,
      "outputs": []
    },
    {
      "cell_type": "code",
      "metadata": {
        "id": "wei8x3PxZCzg",
        "colab_type": "code",
        "colab": {
          "base_uri": "https://localhost:8080/",
          "height": 374
        },
        "outputId": "8c495e42-7892-44bc-e02f-4e397bdb18af"
      },
      "source": [
        "model = Sequential()\n",
        "model.add(Embedding(total_words, 200, input_length=max_sequence_len-1))#we are subtracting 1 here because we have removed\n",
        "#the last word in every sentence as label \n",
        "model.add(Bidirectional(LSTM(150, return_sequences=True)))\n",
        "model.add(Dropout(0.2))\n",
        "model.add(LSTM(100))\n",
        "# model.add(Dense(64, input_dim=64,kernel_regularizer=Regularizers.l2(0.01),activity_regularizer=Regularizers.l1(0.01)))# A Dense Layer including regularizers)\n",
        "model.add(Dense(total_words/2, activation='relu', kernel_regularizer=regularizers.l2(0.01)))\n",
        "model.add(Dense(total_words, activation='softmax'))\n",
        "adam=Adam()# Pick an optimizer\n",
        "model.compile(loss='categorical_crossentropy', optimizer=adam, metrics='accuracy')# Pick a loss function and an optimizer\n",
        "print(model.summary())"
      ],
      "execution_count": 22,
      "outputs": [
        {
          "output_type": "stream",
          "text": [
            "Model: \"sequential_8\"\n",
            "_________________________________________________________________\n",
            "Layer (type)                 Output Shape              Param #   \n",
            "=================================================================\n",
            "embedding_8 (Embedding)      (None, 10, 200)           642200    \n",
            "_________________________________________________________________\n",
            "bidirectional_10 (Bidirectio (None, 10, 300)           421200    \n",
            "_________________________________________________________________\n",
            "dropout_7 (Dropout)          (None, 10, 300)           0         \n",
            "_________________________________________________________________\n",
            "lstm_16 (LSTM)               (None, 100)               160400    \n",
            "_________________________________________________________________\n",
            "dense_8 (Dense)              (None, 1605)              162105    \n",
            "_________________________________________________________________\n",
            "dense_9 (Dense)              (None, 3211)              5156866   \n",
            "=================================================================\n",
            "Total params: 6,542,771\n",
            "Trainable params: 6,542,771\n",
            "Non-trainable params: 0\n",
            "_________________________________________________________________\n",
            "None\n"
          ],
          "name": "stdout"
        }
      ]
    },
    {
      "cell_type": "code",
      "metadata": {
        "id": "IEUZxWL0ZcEf",
        "colab_type": "code",
        "colab": {
          "base_uri": "https://localhost:8080/",
          "height": 357
        },
        "outputId": "8b4a2c87-3e69-4858-88fc-e7c497f3f27a"
      },
      "source": [
        "history = model.fit(predictors, label, epochs=10, verbose=1)"
      ],
      "execution_count": 23,
      "outputs": [
        {
          "output_type": "stream",
          "text": [
            "Epoch 1/10\n",
            "484/484 [==============================] - 8s 16ms/step - loss: 6.9085 - accuracy: 0.0200\n",
            "Epoch 2/10\n",
            "484/484 [==============================] - 7s 15ms/step - loss: 6.4981 - accuracy: 0.0228\n",
            "Epoch 3/10\n",
            "484/484 [==============================] - 7s 15ms/step - loss: 6.3632 - accuracy: 0.0255\n",
            "Epoch 4/10\n",
            "484/484 [==============================] - 8s 16ms/step - loss: 6.2421 - accuracy: 0.0291\n",
            "Epoch 5/10\n",
            "484/484 [==============================] - 8s 16ms/step - loss: 6.1546 - accuracy: 0.0338\n",
            "Epoch 6/10\n",
            "484/484 [==============================] - 7s 15ms/step - loss: 6.0817 - accuracy: 0.0383\n",
            "Epoch 7/10\n",
            "484/484 [==============================] - 8s 16ms/step - loss: 5.9970 - accuracy: 0.0415\n",
            "Epoch 8/10\n",
            "484/484 [==============================] - 7s 15ms/step - loss: 5.9158 - accuracy: 0.0462\n",
            "Epoch 9/10\n",
            "484/484 [==============================] - 7s 15ms/step - loss: 5.8243 - accuracy: 0.0512\n",
            "Epoch 10/10\n",
            "484/484 [==============================] - 8s 16ms/step - loss: 5.7263 - accuracy: 0.0560\n"
          ],
          "name": "stdout"
        }
      ]
    },
    {
      "cell_type": "code",
      "metadata": {
        "id": "trcjG_1Faj5W",
        "colab_type": "code",
        "colab": {
          "base_uri": "https://localhost:8080/",
          "height": 54
        },
        "outputId": "bf558470-9686-47b7-bdf8-3efc35130cba"
      },
      "source": [
        "#outcome of the seed text - with dimensions for embeddings=200 but epochs=10\n",
        "# Although mapped similar words in very high dimension for the embedding layer (200) with fewer epochs to train the model\n",
        "# the outcome is not that great!\n",
        "seed_text = \"Help me Obi Wan Kenobi, you're my only hope\"\n",
        "next_words = 100\n",
        "  \n",
        "for _ in range(next_words):\n",
        "\ttoken_list = tokenizer.texts_to_sequences([seed_text])[0]\n",
        "\ttoken_list = pad_sequences([token_list], maxlen=max_sequence_len-1, padding='pre')\n",
        "\tpredicted = model.predict_classes(token_list, verbose=0)\n",
        "\toutput_word = \"\"\n",
        "\tfor word, index in tokenizer.word_index.items():\n",
        "\t\tif index == predicted:\n",
        "\t\t\toutput_word = word\n",
        "\t\t\tbreak\n",
        "\tseed_text += \" \" + output_word\n",
        "print(seed_text)"
      ],
      "execution_count": 25,
      "outputs": [
        {
          "output_type": "stream",
          "text": [
            "Help me Obi Wan Kenobi, you're my only hope and love to thee in thee i i love and love and love and love and love and love and love and love and love and love and love and love and love and love and love and love and love and love and love and love and love and love and love and love and love and love and love and love and love and love and love and love and love and love and love and love and love and love and love and love and love and love and love and love and love and love and\n"
          ],
          "name": "stdout"
        }
      ]
    },
    {
      "cell_type": "code",
      "metadata": {
        "id": "PvyCqgPvayOT",
        "colab_type": "code",
        "colab": {}
      },
      "source": [
        ""
      ],
      "execution_count": 0,
      "outputs": []
    },
    {
      "cell_type": "code",
      "metadata": {
        "id": "hkPKzwz2azBz",
        "colab_type": "code",
        "colab": {
          "base_uri": "https://localhost:8080/",
          "height": 374
        },
        "outputId": "01803d06-3362-4b2a-f110-d4f773859994"
      },
      "source": [
        "model = Sequential()\n",
        "model.add(Embedding(total_words, 200, input_length=max_sequence_len-1))#we are subtracting 1 here because we have removed\n",
        "#the last word in every sentence as label \n",
        "model.add(Bidirectional(LSTM(150, return_sequences=True)))\n",
        "model.add(Dropout(0.2))\n",
        "model.add(LSTM(100))\n",
        "# model.add(Dense(64, input_dim=64,kernel_regularizer=Regularizers.l2(0.01),activity_regularizer=Regularizers.l1(0.01)))# A Dense Layer including regularizers)\n",
        "model.add(Dense(total_words/2, activation='relu', kernel_regularizer=regularizers.l2(0.01)))\n",
        "model.add(Dense(total_words, activation='softmax'))\n",
        "adam=Adam()# Pick an optimizer\n",
        "model.compile(loss='categorical_crossentropy', optimizer=adam, metrics='accuracy')# Pick a loss function and an optimizer\n",
        "print(model.summary())"
      ],
      "execution_count": 26,
      "outputs": [
        {
          "output_type": "stream",
          "text": [
            "Model: \"sequential_9\"\n",
            "_________________________________________________________________\n",
            "Layer (type)                 Output Shape              Param #   \n",
            "=================================================================\n",
            "embedding_9 (Embedding)      (None, 10, 200)           642200    \n",
            "_________________________________________________________________\n",
            "bidirectional_11 (Bidirectio (None, 10, 300)           421200    \n",
            "_________________________________________________________________\n",
            "dropout_8 (Dropout)          (None, 10, 300)           0         \n",
            "_________________________________________________________________\n",
            "lstm_18 (LSTM)               (None, 100)               160400    \n",
            "_________________________________________________________________\n",
            "dense_10 (Dense)             (None, 1605)              162105    \n",
            "_________________________________________________________________\n",
            "dense_11 (Dense)             (None, 3211)              5156866   \n",
            "=================================================================\n",
            "Total params: 6,542,771\n",
            "Trainable params: 6,542,771\n",
            "Non-trainable params: 0\n",
            "_________________________________________________________________\n",
            "None\n"
          ],
          "name": "stdout"
        }
      ]
    },
    {
      "cell_type": "code",
      "metadata": {
        "id": "2npQ7prta3U-",
        "colab_type": "code",
        "colab": {
          "base_uri": "https://localhost:8080/",
          "height": 1000
        },
        "outputId": "8529d403-3563-4250-fc48-7a5684b9b264"
      },
      "source": [
        "history = model.fit(predictors, label, epochs=100, verbose=1)"
      ],
      "execution_count": 27,
      "outputs": [
        {
          "output_type": "stream",
          "text": [
            "Epoch 1/100\n",
            "484/484 [==============================] - 7s 15ms/step - loss: 6.9161 - accuracy: 0.0214\n",
            "Epoch 2/100\n",
            "484/484 [==============================] - 7s 15ms/step - loss: 6.4977 - accuracy: 0.0219\n",
            "Epoch 3/100\n",
            "484/484 [==============================] - 7s 15ms/step - loss: 6.4012 - accuracy: 0.0257\n",
            "Epoch 4/100\n",
            "484/484 [==============================] - 7s 15ms/step - loss: 6.2836 - accuracy: 0.0296\n",
            "Epoch 5/100\n",
            "484/484 [==============================] - 7s 15ms/step - loss: 6.1842 - accuracy: 0.0340\n",
            "Epoch 6/100\n",
            "484/484 [==============================] - 7s 15ms/step - loss: 6.1036 - accuracy: 0.0378\n",
            "Epoch 7/100\n",
            "484/484 [==============================] - 7s 15ms/step - loss: 6.0265 - accuracy: 0.0413\n",
            "Epoch 8/100\n",
            "484/484 [==============================] - 7s 15ms/step - loss: 5.9417 - accuracy: 0.0477\n",
            "Epoch 9/100\n",
            "484/484 [==============================] - 7s 15ms/step - loss: 5.8486 - accuracy: 0.0514\n",
            "Epoch 10/100\n",
            "484/484 [==============================] - 7s 15ms/step - loss: 5.7332 - accuracy: 0.0577\n",
            "Epoch 11/100\n",
            "484/484 [==============================] - 7s 15ms/step - loss: 5.6188 - accuracy: 0.0640\n",
            "Epoch 12/100\n",
            "484/484 [==============================] - 7s 15ms/step - loss: 5.5049 - accuracy: 0.0714\n",
            "Epoch 13/100\n",
            "484/484 [==============================] - 8s 16ms/step - loss: 5.3919 - accuracy: 0.0783\n",
            "Epoch 14/100\n",
            "484/484 [==============================] - 7s 15ms/step - loss: 5.2825 - accuracy: 0.0852\n",
            "Epoch 15/100\n",
            "484/484 [==============================] - 7s 15ms/step - loss: 5.1728 - accuracy: 0.0931\n",
            "Epoch 16/100\n",
            "484/484 [==============================] - 7s 15ms/step - loss: 5.0604 - accuracy: 0.1008\n",
            "Epoch 17/100\n",
            "484/484 [==============================] - 7s 15ms/step - loss: 4.9585 - accuracy: 0.1068\n",
            "Epoch 18/100\n",
            "484/484 [==============================] - 7s 14ms/step - loss: 4.8512 - accuracy: 0.1148\n",
            "Epoch 19/100\n",
            "484/484 [==============================] - 7s 15ms/step - loss: 4.7449 - accuracy: 0.1261\n",
            "Epoch 20/100\n",
            "484/484 [==============================] - 7s 15ms/step - loss: 4.6417 - accuracy: 0.1334\n",
            "Epoch 21/100\n",
            "484/484 [==============================] - 7s 15ms/step - loss: 4.5341 - accuracy: 0.1465\n",
            "Epoch 22/100\n",
            "484/484 [==============================] - 7s 15ms/step - loss: 4.4236 - accuracy: 0.1565\n",
            "Epoch 23/100\n",
            "484/484 [==============================] - 7s 15ms/step - loss: 4.3241 - accuracy: 0.1676\n",
            "Epoch 24/100\n",
            "484/484 [==============================] - 7s 15ms/step - loss: 4.2276 - accuracy: 0.1850\n",
            "Epoch 25/100\n",
            "484/484 [==============================] - 7s 15ms/step - loss: 4.1194 - accuracy: 0.1967\n",
            "Epoch 26/100\n",
            "484/484 [==============================] - 7s 15ms/step - loss: 4.0170 - accuracy: 0.2117\n",
            "Epoch 27/100\n",
            "484/484 [==============================] - 7s 15ms/step - loss: 3.9096 - accuracy: 0.2282\n",
            "Epoch 28/100\n",
            "484/484 [==============================] - 7s 14ms/step - loss: 3.8240 - accuracy: 0.2392\n",
            "Epoch 29/100\n",
            "484/484 [==============================] - 7s 15ms/step - loss: 3.7235 - accuracy: 0.2617\n",
            "Epoch 30/100\n",
            "484/484 [==============================] - 7s 15ms/step - loss: 3.6277 - accuracy: 0.2814\n",
            "Epoch 31/100\n",
            "484/484 [==============================] - 7s 15ms/step - loss: 3.5327 - accuracy: 0.2993\n",
            "Epoch 32/100\n",
            "484/484 [==============================] - 7s 15ms/step - loss: 3.4438 - accuracy: 0.3146\n",
            "Epoch 33/100\n",
            "484/484 [==============================] - 7s 15ms/step - loss: 3.3706 - accuracy: 0.3328\n",
            "Epoch 34/100\n",
            "484/484 [==============================] - 7s 15ms/step - loss: 3.2811 - accuracy: 0.3507\n",
            "Epoch 35/100\n",
            "484/484 [==============================] - 7s 15ms/step - loss: 3.1965 - accuracy: 0.3673\n",
            "Epoch 36/100\n",
            "484/484 [==============================] - 7s 15ms/step - loss: 3.1224 - accuracy: 0.3887\n",
            "Epoch 37/100\n",
            "484/484 [==============================] - 7s 15ms/step - loss: 3.0382 - accuracy: 0.4050\n",
            "Epoch 38/100\n",
            "484/484 [==============================] - 7s 15ms/step - loss: 2.9645 - accuracy: 0.4215\n",
            "Epoch 39/100\n",
            "484/484 [==============================] - 7s 15ms/step - loss: 2.9078 - accuracy: 0.4333\n",
            "Epoch 40/100\n",
            "484/484 [==============================] - 7s 15ms/step - loss: 2.8163 - accuracy: 0.4553\n",
            "Epoch 41/100\n",
            "484/484 [==============================] - 7s 15ms/step - loss: 2.7657 - accuracy: 0.4677\n",
            "Epoch 42/100\n",
            "484/484 [==============================] - 7s 15ms/step - loss: 2.7009 - accuracy: 0.4817\n",
            "Epoch 43/100\n",
            "484/484 [==============================] - 7s 15ms/step - loss: 2.6259 - accuracy: 0.4987\n",
            "Epoch 44/100\n",
            "484/484 [==============================] - 7s 15ms/step - loss: 2.5627 - accuracy: 0.5166\n",
            "Epoch 45/100\n",
            "484/484 [==============================] - 7s 15ms/step - loss: 2.5205 - accuracy: 0.5238\n",
            "Epoch 46/100\n",
            "484/484 [==============================] - 7s 15ms/step - loss: 2.4592 - accuracy: 0.5376\n",
            "Epoch 47/100\n",
            "484/484 [==============================] - 7s 15ms/step - loss: 2.4027 - accuracy: 0.5514\n",
            "Epoch 48/100\n",
            "484/484 [==============================] - 7s 15ms/step - loss: 2.3562 - accuracy: 0.5585\n",
            "Epoch 49/100\n",
            "484/484 [==============================] - 7s 15ms/step - loss: 2.3050 - accuracy: 0.5701\n",
            "Epoch 50/100\n",
            "484/484 [==============================] - 7s 15ms/step - loss: 2.2555 - accuracy: 0.5807\n",
            "Epoch 51/100\n",
            "484/484 [==============================] - 7s 15ms/step - loss: 2.2125 - accuracy: 0.5913\n",
            "Epoch 52/100\n",
            "484/484 [==============================] - 7s 15ms/step - loss: 2.1733 - accuracy: 0.6001\n",
            "Epoch 53/100\n",
            "484/484 [==============================] - 7s 15ms/step - loss: 2.1215 - accuracy: 0.6142\n",
            "Epoch 54/100\n",
            "484/484 [==============================] - 7s 15ms/step - loss: 2.0839 - accuracy: 0.6151\n",
            "Epoch 55/100\n",
            "484/484 [==============================] - 7s 15ms/step - loss: 2.0538 - accuracy: 0.6221\n",
            "Epoch 56/100\n",
            "484/484 [==============================] - 8s 16ms/step - loss: 2.0031 - accuracy: 0.6373\n",
            "Epoch 57/100\n",
            "484/484 [==============================] - 7s 15ms/step - loss: 1.9550 - accuracy: 0.6459\n",
            "Epoch 58/100\n",
            "484/484 [==============================] - 7s 15ms/step - loss: 1.9267 - accuracy: 0.6526\n",
            "Epoch 59/100\n",
            "484/484 [==============================] - 7s 15ms/step - loss: 1.9002 - accuracy: 0.6576\n",
            "Epoch 60/100\n",
            "484/484 [==============================] - 7s 15ms/step - loss: 1.8688 - accuracy: 0.6654\n",
            "Epoch 61/100\n",
            "484/484 [==============================] - 7s 15ms/step - loss: 1.8348 - accuracy: 0.6722\n",
            "Epoch 62/100\n",
            "484/484 [==============================] - 7s 15ms/step - loss: 1.7949 - accuracy: 0.6816\n",
            "Epoch 63/100\n",
            "484/484 [==============================] - 7s 15ms/step - loss: 1.7653 - accuracy: 0.6881\n",
            "Epoch 64/100\n",
            "484/484 [==============================] - 7s 15ms/step - loss: 1.7324 - accuracy: 0.6937\n",
            "Epoch 65/100\n",
            "484/484 [==============================] - 7s 15ms/step - loss: 1.7019 - accuracy: 0.6988\n",
            "Epoch 66/100\n",
            "484/484 [==============================] - 7s 15ms/step - loss: 1.6808 - accuracy: 0.7017\n",
            "Epoch 67/100\n",
            "484/484 [==============================] - 7s 15ms/step - loss: 1.6637 - accuracy: 0.7093\n",
            "Epoch 68/100\n",
            "484/484 [==============================] - 7s 15ms/step - loss: 1.6398 - accuracy: 0.7086\n",
            "Epoch 69/100\n",
            "484/484 [==============================] - 7s 15ms/step - loss: 1.6108 - accuracy: 0.7147\n",
            "Epoch 70/100\n",
            "484/484 [==============================] - 7s 15ms/step - loss: 1.5788 - accuracy: 0.7231\n",
            "Epoch 71/100\n",
            "484/484 [==============================] - 7s 15ms/step - loss: 1.5425 - accuracy: 0.7351\n",
            "Epoch 72/100\n",
            "484/484 [==============================] - 7s 15ms/step - loss: 1.5345 - accuracy: 0.7326\n",
            "Epoch 73/100\n",
            "484/484 [==============================] - 7s 15ms/step - loss: 1.5208 - accuracy: 0.7355\n",
            "Epoch 74/100\n",
            "484/484 [==============================] - 7s 15ms/step - loss: 1.4949 - accuracy: 0.7371\n",
            "Epoch 75/100\n",
            "484/484 [==============================] - 7s 15ms/step - loss: 1.4702 - accuracy: 0.7454\n",
            "Epoch 76/100\n",
            "484/484 [==============================] - 7s 15ms/step - loss: 1.4570 - accuracy: 0.7433\n",
            "Epoch 77/100\n",
            "484/484 [==============================] - 7s 15ms/step - loss: 1.4434 - accuracy: 0.7480\n",
            "Epoch 78/100\n",
            "484/484 [==============================] - 7s 15ms/step - loss: 1.4175 - accuracy: 0.7560\n",
            "Epoch 79/100\n",
            "484/484 [==============================] - 7s 15ms/step - loss: 1.4070 - accuracy: 0.7571\n",
            "Epoch 80/100\n",
            "484/484 [==============================] - 7s 15ms/step - loss: 1.3773 - accuracy: 0.7611\n",
            "Epoch 81/100\n",
            "484/484 [==============================] - 7s 15ms/step - loss: 1.3696 - accuracy: 0.7610\n",
            "Epoch 82/100\n",
            "484/484 [==============================] - 7s 15ms/step - loss: 1.3441 - accuracy: 0.7691\n",
            "Epoch 83/100\n",
            "484/484 [==============================] - 7s 15ms/step - loss: 1.3351 - accuracy: 0.7677\n",
            "Epoch 84/100\n",
            "484/484 [==============================] - 7s 15ms/step - loss: 1.3215 - accuracy: 0.7706\n",
            "Epoch 85/100\n",
            "484/484 [==============================] - 7s 15ms/step - loss: 1.3214 - accuracy: 0.7690\n",
            "Epoch 86/100\n",
            "484/484 [==============================] - 7s 15ms/step - loss: 1.2909 - accuracy: 0.7734\n",
            "Epoch 87/100\n",
            "484/484 [==============================] - 7s 15ms/step - loss: 1.2681 - accuracy: 0.7823\n",
            "Epoch 88/100\n",
            "484/484 [==============================] - 7s 15ms/step - loss: 1.2654 - accuracy: 0.7807\n",
            "Epoch 89/100\n",
            "484/484 [==============================] - 7s 15ms/step - loss: 1.2469 - accuracy: 0.7843\n",
            "Epoch 90/100\n",
            "484/484 [==============================] - 7s 15ms/step - loss: 1.2475 - accuracy: 0.7804\n",
            "Epoch 91/100\n",
            "484/484 [==============================] - 7s 15ms/step - loss: 1.2248 - accuracy: 0.7877\n",
            "Epoch 92/100\n",
            "484/484 [==============================] - 7s 15ms/step - loss: 1.2147 - accuracy: 0.7870\n",
            "Epoch 93/100\n",
            "484/484 [==============================] - 7s 15ms/step - loss: 1.2069 - accuracy: 0.7886\n",
            "Epoch 94/100\n",
            "484/484 [==============================] - 7s 15ms/step - loss: 1.1966 - accuracy: 0.7882\n",
            "Epoch 95/100\n",
            "484/484 [==============================] - 7s 15ms/step - loss: 1.1835 - accuracy: 0.7941\n",
            "Epoch 96/100\n",
            "484/484 [==============================] - 7s 15ms/step - loss: 1.1741 - accuracy: 0.7958\n",
            "Epoch 97/100\n",
            "484/484 [==============================] - 7s 15ms/step - loss: 1.1643 - accuracy: 0.7970\n",
            "Epoch 98/100\n",
            "484/484 [==============================] - 7s 15ms/step - loss: 1.1577 - accuracy: 0.7948\n",
            "Epoch 99/100\n",
            "484/484 [==============================] - 8s 16ms/step - loss: 1.1389 - accuracy: 0.8000\n",
            "Epoch 100/100\n",
            "484/484 [==============================] - 7s 15ms/step - loss: 1.1371 - accuracy: 0.7982\n"
          ],
          "name": "stdout"
        }
      ]
    },
    {
      "cell_type": "code",
      "metadata": {
        "id": "5X-dFGw5dvBX",
        "colab_type": "code",
        "colab": {
          "base_uri": "https://localhost:8080/",
          "height": 545
        },
        "outputId": "b31e64af-6d6c-432d-e4e9-5e5200579424"
      },
      "source": [
        "import matplotlib.pyplot as plt\n",
        "acc = history.history['accuracy']\n",
        "loss = history.history['loss']\n",
        "\n",
        "epochs = range(len(acc))\n",
        "\n",
        "plt.plot(epochs, acc, 'b', label='Training accuracy')\n",
        "plt.title('Training accuracy')\n",
        "\n",
        "plt.figure()\n",
        "\n",
        "plt.plot(epochs, loss, 'b', label='Training Loss')\n",
        "plt.title('Training loss')\n",
        "plt.legend()\n",
        "\n",
        "plt.show()"
      ],
      "execution_count": 28,
      "outputs": [
        {
          "output_type": "display_data",
          "data": {
            "image/png": "[encoded data removed]",
            "text/plain": [
              "<Figure size 432x288 with 1 Axes>"
            ]
          },
          "metadata": {
            "tags": []
          }
        },
        {
          "output_type": "display_data",
          "data": {
            "image/png": "[encoded data removed]",
            "text/plain": [
              "<Figure size 432x288 with 1 Axes>"
            ]
          },
          "metadata": {
            "tags": []
          }
        }
      ]
    },
    {
      "cell_type": "code",
      "metadata": {
        "id": "c2W21A13d48Z",
        "colab_type": "code",
        "colab": {
          "base_uri": "https://localhost:8080/",
          "height": 54
        },
        "outputId": "258d231d-a33c-4f06-a625-c573e3ba77bc"
      },
      "source": [
        "seed_text = \"Help me Obi Wan Kenobi, you're my only hope\"\n",
        "next_words = 100\n",
        "  \n",
        "for _ in range(next_words):\n",
        "\ttoken_list = tokenizer.texts_to_sequences([seed_text])[0]\n",
        "\ttoken_list = pad_sequences([token_list], maxlen=max_sequence_len-1, padding='pre')\n",
        "\tpredicted = model.predict_classes(token_list, verbose=0)\n",
        "\toutput_word = \"\"\n",
        "\tfor word, index in tokenizer.word_index.items():\n",
        "\t\tif index == predicted:\n",
        "\t\t\toutput_word = word\n",
        "\t\t\tbreak\n",
        "\tseed_text += \" \" + output_word\n",
        "print(seed_text)"
      ],
      "execution_count": 29,
      "outputs": [
        {
          "output_type": "stream",
          "text": [
            "Help me Obi Wan Kenobi, you're my only hope thy beauty enclose bear use me most love do thee where better hate age lived up thee grace my pain tell me be his part to recite his field report light ' have stand thee on me best do thee thee you best in woe rhyme last in thee men best still write not the days or days than day do thrust done true hate age gather'd still in thee hate bright age so bright ' be true prove thee bright say you go days are cold ' write of art of art forth where to know my tongue had\n"
          ],
          "name": "stdout"
        }
      ]
    },
    {
      "cell_type": "code",
      "metadata": {
        "id": "hBmaJxZFeFEn",
        "colab_type": "code",
        "colab": {
          "base_uri": "https://localhost:8080/",
          "height": 34
        },
        "outputId": "ca58b7a5-116a-4386-c3c6-c7a8886ee9fe"
      },
      "source": [
        "Played with a few sentences :)\n",
        "seed_text = \"Oh, God please help me\"\n",
        "next_words = 20\n",
        "  \n",
        "for _ in range(next_words):\n",
        "\ttoken_list = tokenizer.texts_to_sequences([seed_text])[0]\n",
        "\ttoken_list = pad_sequences([token_list], maxlen=max_sequence_len-1, padding='pre')\n",
        "\tpredicted = model.predict_classes(token_list, verbose=0)\n",
        "\toutput_word = \"\"\n",
        "\tfor word, index in tokenizer.word_index.items():\n",
        "\t\tif index == predicted:\n",
        "\t\t\toutput_word = word\n",
        "\t\t\tbreak\n",
        "\tseed_text += \" \" + output_word\n",
        "print(seed_text)"
      ],
      "execution_count": 30,
      "outputs": [
        {
          "output_type": "stream",
          "text": [
            "Oh, God please help me yet i leave you are bright ' be grow long wantonness of me sheds go might bear youth untrue dearer\n"
          ],
          "name": "stdout"
        }
      ]
    },
    {
      "cell_type": "code",
      "metadata": {
        "id": "Jo2ZKZMVeQ5h",
        "colab_type": "code",
        "colab": {
          "base_uri": "https://localhost:8080/",
          "height": 34
        },
        "outputId": "c9e7d7d6-21e0-4f90-96bc-875dbf8945ff"
      },
      "source": [
        "seed_text = \"You my truest friend because\"\n",
        "next_words = 20\n",
        "  \n",
        "for _ in range(next_words):\n",
        "\ttoken_list = tokenizer.texts_to_sequences([seed_text])[0]\n",
        "\ttoken_list = pad_sequences([token_list], maxlen=max_sequence_len-1, padding='pre')\n",
        "\tpredicted = model.predict_classes(token_list, verbose=0)\n",
        "\toutput_word = \"\"\n",
        "\tfor word, index in tokenizer.word_index.items():\n",
        "\t\tif index == predicted:\n",
        "\t\t\toutput_word = word\n",
        "\t\t\tbreak\n",
        "\tseed_text += \" \" + output_word\n",
        "print(seed_text)"
      ],
      "execution_count": 32,
      "outputs": [
        {
          "output_type": "stream",
          "text": [
            "You my truest friend because is in thy might prove write my tongue and happy best be go night still in life hast truth by\n"
          ],
          "name": "stdout"
        }
      ]
    },
    {
      "cell_type": "code",
      "metadata": {
        "id": "6DzyFyh0erJJ",
        "colab_type": "code",
        "colab": {
          "base_uri": "https://localhost:8080/",
          "height": 34
        },
        "outputId": "bb35c647-2722-4501-9219-e7cb09f98ca8"
      },
      "source": [
        "# Observation: Wow, this outcome here is awesome. So training in higher dimensions cut down the noise in the mappings\n",
        "# looks like. what's so cool is that the NN model understands the context a little better in higher dimensions I suppose\n",
        "that the context is about love and the model predicts appropriate words like love and predicting the phrase \"all things grow best to know me gladly\"\n",
        "# is very cool. Wow magical!\n",
        "\n",
        "seed_text = \"I can tell you my love\"\n",
        "next_words = 20\n",
        "  \n",
        "for _ in range(next_words):\n",
        "\ttoken_list = tokenizer.texts_to_sequences([seed_text])[0]\n",
        "\ttoken_list = pad_sequences([token_list], maxlen=max_sequence_len-1, padding='pre')\n",
        "\tpredicted = model.predict_classes(token_list, verbose=0)\n",
        "\toutput_word = \"\"\n",
        "\tfor word, index in tokenizer.word_index.items():\n",
        "\t\tif index == predicted:\n",
        "\t\t\toutput_word = word\n",
        "\t\t\tbreak\n",
        "\tseed_text += \" \" + output_word\n",
        "print(seed_text)"
      ],
      "execution_count": 34,
      "outputs": [
        {
          "output_type": "stream",
          "text": [
            "I can tell you my love and all things grow best to know me gladly see thee me thee you write not love of me than\n"
          ],
          "name": "stdout"
        }
      ]
    }
  ]
}