{
 "cells": [
  {
   "cell_type": "code",
   "execution_count": 1,
   "metadata": {},
   "outputs": [],
   "source": [
    "#x\n",
    "import numpy as np\n",
    "import random\n",
    "x_tmp = np.random.randn(3,10,4)"
   ]
  },
  {
   "cell_type": "code",
   "execution_count": 2,
   "metadata": {},
   "outputs": [
    {
     "data": {
      "text/plain": [
       "array([[[-0.73363117, -0.14847632, -0.27725214, -1.16563975],\n",
       "        [-0.29142795,  1.21913598,  1.5341846 ,  0.23278944],\n",
       "        [ 0.66269229,  0.2219988 , -1.06353825, -0.0837452 ],\n",
       "        [-1.79101915, -0.3920027 ,  0.13935548, -0.24635501],\n",
       "        [-0.70993496,  0.1585953 ,  0.75044831,  0.5280769 ],\n",
       "        [-1.76970344, -1.79036053, -0.78384398, -0.43368139],\n",
       "        [-0.30468733,  0.23678328, -0.12144626, -0.63482154],\n",
       "        [-0.0685424 ,  0.82978774,  1.63511029,  0.4631869 ],\n",
       "        [ 0.17202792, -0.22916228, -0.32456429,  1.13403168],\n",
       "        [-0.15145235, -1.48156301, -0.13531422, -0.07611731]],\n",
       "\n",
       "       [[ 0.83174594,  0.22919071,  0.23449766,  0.32862788],\n",
       "        [ 0.19618445, -0.78885622,  0.37881917,  0.96833045],\n",
       "        [-3.31780534, -0.73954353,  0.80223369, -1.57775474],\n",
       "        [-0.64093117, -0.7254551 ,  0.164937  ,  1.0548434 ],\n",
       "        [ 0.17349536, -0.2284151 , -0.76428564, -1.62436002],\n",
       "        [-0.24084425, -1.0149349 , -1.28876836, -0.27131237],\n",
       "        [-0.43391885,  0.22798503, -0.83738378, -0.08863521],\n",
       "        [-0.30671086, -1.03217758, -1.04496188,  0.62237598],\n",
       "        [-0.93613802,  0.54259826,  1.19484435,  1.04958935],\n",
       "        [ 0.20135662, -1.31238684,  1.89264794, -0.27325055]],\n",
       "\n",
       "       [[-0.61699846, -0.33332552,  1.10474888, -1.04515428],\n",
       "        [-0.14744828, -0.45131192,  0.75619491, -0.1063598 ],\n",
       "        [ 1.77947243, -0.16290022, -0.32885846, -0.21115496],\n",
       "        [ 0.59661999,  0.3305052 ,  0.52828269, -0.19355323],\n",
       "        [-0.98212951,  0.73245035, -0.45721606, -0.47754434],\n",
       "        [ 1.46114406,  0.0159389 , -0.66283312,  0.27091879],\n",
       "        [ 0.57477075,  0.08490435, -0.16909748, -0.05173832],\n",
       "        [ 0.19260487,  0.04906229,  0.04201852, -0.64770239],\n",
       "        [-1.11998976, -0.70000244,  1.10609984,  0.43944117],\n",
       "        [-1.60168156, -1.46886077, -2.14295424, -0.42778714]]])"
      ]
     },
     "execution_count": 2,
     "metadata": {},
     "output_type": "execute_result"
    }
   ],
   "source": [
    "x_tmp"
   ]
  },
  {
   "cell_type": "code",
   "execution_count": 3,
   "metadata": {},
   "outputs": [
    {
     "data": {
      "text/plain": [
       "array([[-0.14847632,  1.21913598,  0.2219988 , -0.3920027 ,  0.1585953 ,\n",
       "        -1.79036053,  0.23678328,  0.82978774, -0.22916228, -1.48156301],\n",
       "       [ 0.22919071, -0.78885622, -0.73954353, -0.7254551 , -0.2284151 ,\n",
       "        -1.0149349 ,  0.22798503, -1.03217758,  0.54259826, -1.31238684],\n",
       "       [-0.33332552, -0.45131192, -0.16290022,  0.3305052 ,  0.73245035,\n",
       "         0.0159389 ,  0.08490435,  0.04906229, -0.70000244, -1.46886077]])"
      ]
     },
     "execution_count": 3,
     "metadata": {},
     "output_type": "execute_result"
    }
   ],
   "source": [
    "x_tmp[:,:,1]"
   ]
  },
  {
   "cell_type": "code",
   "execution_count": null,
   "metadata": {},
   "outputs": [],
   "source": [
    "Forward propagation of RNN\n",
    "\n",
    "caches = []\n",
    "    \n",
    "    # Retrieve dimensions from shapes of x and parameters[\"Wya\"]\n",
    "    n_x, m, T_x = x.shape\n",
    "    n_y, n_a = parameters[\"Wya\"].shape\n",
    "    \n",
    "    ### START CODE HERE ###\n",
    "    \n",
    "    # initialize \"a\" and \"y_pred\" with zeros (≈2 lines)\n",
    "    a = np.zeros((n_a, m, T_x))\n",
    "    y_pred = np.zeros((n_y, m, T_x))\n",
    "    \n",
    "    # Initialize a_next (≈1 line)\n",
    "    a_next = a0\n",
    "    \n",
    "    # loop over all time-steps of the input 'x' (1 line)\n",
    "    for t in range(T_x):\n",
    "        # Update next hidden state, compute the prediction, get the cache (≈2 lines)\n",
    "        xt = x[:,:,t]\n",
    "        a_next, yt_pred, cache = rnn_cell_forward(xt, a_next, parameters)\n",
    "        # Save the value of the new \"next\" hidden state in a (≈1 line)\n",
    "        a[:,:,t] = a_next\n",
    "        # Save the value of the prediction in y (≈1 line)\n",
    "        y_pred[:,:,t] = yt_pred\n",
    "        # Append \"cache\" to \"caches\" (≈1 line)\n",
    "        caches.append(cache)\n",
    "        \n",
    "    ### END CODE HERE ###\n",
    "    \n",
    "    # store values needed for backward propagation in cache\n",
    "    caches = (caches, x)\n",
    "    \n",
    "    \n",
    "    return a, y_pred, caches"
   ]
  },
  {
   "cell_type": "code",
   "execution_count": null,
   "metadata": {},
   "outputs": [],
   "source": [
    "Backward propagation of RNN\n",
    "\n",
    "\n",
    "### START CODE HERE ###\n",
    "    \n",
    "    # Retrieve values from the first cache (t=1) of caches (≈2 lines)\n",
    "    (caches, x) = caches\n",
    "    \n",
    "    (a1, a0, x1, parameters) = caches[0]\n",
    "    \n",
    "    # Retrieve dimensions from da's and x1's shapes (≈2 lines)\n",
    "    n_a, m, T_x = da.shape\n",
    "    n_x, m = x1.shape\n",
    "    \n",
    "    # initialize the gradients with the right sizes (≈6 lines)\n",
    "    dx = np.zeros((n_x, m, T_x))\n",
    "    dWax = np.zeros((n_a, n_x))\n",
    "    dWaa = np.zeros((n_a, n_a))\n",
    "    dba = np.zeros((n_a, 1))\n",
    "    da0 = np.zeros((n_a, m))\n",
    "    da_prevt = np.zeros((n_a, m))\n",
    "    \n",
    "    # Loop through all the time steps\n",
    "    for t in reversed(range(T_x)):\n",
    "        # Compute gradients at time step t. \n",
    "        # Remember to sum gradients from the output path (da) and the previous timesteps (da_prevt) (≈1 line)\n",
    "        gradients = rnn_cell_backward((da[:,:,t]+da_prevt), caches[t])\n",
    "        # Retrieve derivatives from gradients (≈ 1 line)\n",
    "        dxt, da_prevt, dWaxt, dWaat, dbat = gradients[\"dxt\"], gradients[\"da_prev\"], gradients[\"dWax\"], gradients[\"dWaa\"], gradients[\"dba\"]\n",
    "        # Increment global derivatives w.r.t parameters by adding their derivative at time-step t (≈4 lines)\n",
    "        dx[:, :, t] = dxt\n",
    "        dWax += dWaxt\n",
    "        dWaa += dWaat\n",
    "        dba += dbat\n",
    "        \n",
    "    # Set da0 to the gradient of a which has been backpropagated through all time-steps (≈1 line) \n",
    "    da0 = da_prevt\n",
    "    ### END CODE HERE ###\n",
    "\n",
    "    # Store the gradients in a python dictionary\n",
    "    gradients = {\"dx\": dx, \"da0\": da0, \"dWax\": dWax, \"dWaa\": dWaa,\"dba\": dba}\n",
    "    \n",
    "    return gradients"
   ]
  },
  {
   "cell_type": "code",
   "execution_count": null,
   "metadata": {},
   "outputs": [],
   "source": [
    "Questions I have?\n",
    "\n",
    "How are the parameters and derivatives are updated?\n"
   ]
  }
 ],
 "metadata": {
  "kernelspec": {
   "display_name": "Python 3",
   "language": "python",
   "name": "python3"
  },
  "language_info": {
   "codemirror_mode": {
    "name": "ipython",
    "version": 3
   },
   "file_extension": ".py",
   "mimetype": "text/x-python",
   "name": "python",
   "nbconvert_exporter": "python",
   "pygments_lexer": "ipython3",
   "version": "3.7.4"
  }
 },
 "nbformat": 4,
 "nbformat_minor": 2
}
