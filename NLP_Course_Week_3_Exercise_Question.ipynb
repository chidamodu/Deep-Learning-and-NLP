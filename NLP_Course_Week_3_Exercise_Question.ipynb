{
  "nbformat": 4,
  "nbformat_minor": 0,
  "metadata": {
    "accelerator": "GPU",
    "colab": {
      "name": "NLP Course - Week 3 Exercise Question.ipynb",
      "provenance": [],
      "toc_visible": true
    },
    "kernelspec": {
      "name": "python3",
      "display_name": "Python 3"
    }
  },
  "cells": [
    {
      "cell_type": "code",
      "metadata": {
        "id": "zX4Kg8DUTKWO",
        "colab_type": "code",
        "colab": {}
      },
      "source": [
        "#@title Licensed under the Apache License, Version 2.0 (the \"License\");\n",
        "# you may not use this file except in compliance with the License.\n",
        "# You may obtain a copy of the License at\n",
        "#\n",
        "# https://www.apache.org/licenses/LICENSE-2.0\n",
        "#\n",
        "# Unless required by applicable law or agreed to in writing, software\n",
        "# distributed under the License is distributed on an \"AS IS\" BASIS,\n",
        "# WITHOUT WARRANTIES OR CONDITIONS OF ANY KIND, either express or implied.\n",
        "# See the License for the specific language governing permissions and\n",
        "# limitations under the License."
      ],
      "execution_count": 0,
      "outputs": []
    },
    {
      "cell_type": "code",
      "metadata": {
        "colab_type": "code",
        "id": "hmA6EzkQJ5jt",
        "colab": {}
      },
      "source": [
        "# import json\n",
        "import tensorflow as tf\n",
        "import csv\n",
        "import random\n",
        "import numpy as np\n",
        "\n",
        "from tensorflow.keras.preprocessing.text import Tokenizer\n",
        "from tensorflow.keras.preprocessing.sequence import pad_sequences\n",
        "from tensorflow.keras.utils import to_categorical\n",
        "from tensorflow.keras import regularizers\n",
        "\n",
        "\n",
        "embedding_dim = 100\n",
        "max_length = 16\n",
        "trunc_type='post'\n",
        "padding_type='post'\n",
        "oov_tok = \"<OOV>\"\n",
        "training_size=160000\n",
        "#Your dataset size here. Experiment using smaller values (i.e. 16000), but don't forget to train on at least 160000 to see the best effects\n",
        "test_portion=.1\n",
        "\n",
        "corpus = []\n"
      ],
      "execution_count": 0,
      "outputs": []
    },
    {
      "cell_type": "code",
      "metadata": {
        "colab_type": "code",
        "id": "bM0l_dORKqE0",
        "outputId": "a93ac512-18cb-4dfd-ee74-95e9e763c801",
        "colab": {
          "base_uri": "https://localhost:8080/",
          "height": 204
        }
      },
      "source": [
        "# Note that I cleaned the Stanford dataset to remove LATIN1 encoding to make it easier for Python CSV reader\n",
        "# You can do that yourself with:\n",
        "# iconv -f LATIN1 -t UTF8 training.1600000.processed.noemoticon.csv -o training_cleaned.csv\n",
        "# I then hosted it on my site to make it easier to use in this notebook\n",
        "\n",
        "!wget --no-check-certificate \\\n",
        "    https://storage.googleapis.com/laurencemoroney-blog.appspot.com/training_cleaned.csv \\\n",
        "    -O /tmp/training_cleaned.csv\n",
        "\n",
        "num_sentences = 0\n",
        "\n",
        "with open(\"/tmp/training_cleaned.csv\") as csvfile:\n",
        "    reader = csv.reader(csvfile, delimiter=',')\n",
        "    for row in reader:\n",
        "      \n",
        "      # Your Code here. Create list items where the first item is the text, found in row[5], and the second is the label. Note that the label is a '0' or a '4' in the text. When it's the former, make\n",
        "      # your label to be 0, otherwise 1. Keep a count of the number of sentences in num_sentences\n",
        "        list_item=[row[5], 0 if row[0]=='0' else 1]\n",
        "        \n",
        "    \n",
        "        # # YOUR CODE HERE\n",
        "        num_sentences += 1\n",
        "        corpus.append(list_item)\n"
      ],
      "execution_count": 23,
      "outputs": [
        {
          "output_type": "stream",
          "text": [
            "--2020-04-08 06:11:40--  https://storage.googleapis.com/laurencemoroney-blog.appspot.com/training_cleaned.csv\n",
            "Resolving storage.googleapis.com (storage.googleapis.com)... 172.217.14.80, 2607:f8b0:4007:808::2010\n",
            "Connecting to storage.googleapis.com (storage.googleapis.com)|172.217.14.80|:443... connected.\n",
            "HTTP request sent, awaiting response... 200 OK\n",
            "Length: 238942690 (228M) [application/octet-stream]\n",
            "Saving to: ‘/tmp/training_cleaned.csv’\n",
            "\n",
            "/tmp/training_clean 100%[===================>] 227.87M   229MB/s    in 1.0s    \n",
            "\n",
            "2020-04-08 06:11:42 (229 MB/s) - ‘/tmp/training_cleaned.csv’ saved [238942690/238942690]\n",
            "\n"
          ],
          "name": "stdout"
        }
      ]
    },
    {
      "cell_type": "code",
      "metadata": {
        "colab_type": "code",
        "id": "3kxblBUjEUX-",
        "outputId": "18b1c828-7c65-4b82-d59d-d3fc10592116",
        "colab": {
          "base_uri": "https://localhost:8080/",
          "height": 68
        }
      },
      "source": [
        "print(num_sentences)\n",
        "print(len(corpus))\n",
        "print(corpus[1])\n",
        "\n",
        "# Expected Output:\n",
        "# 1600000\n",
        "# 1600000\n",
        "# [\"is upset that he can't update his Facebook by texting it... and might cry as a result  School today also. Blah!\", 0]"
      ],
      "execution_count": 24,
      "outputs": [
        {
          "output_type": "stream",
          "text": [
            "1600000\n",
            "1600000\n",
            "[\"is upset that he can't update his Facebook by texting it... and might cry as a result  School today also. Blah!\", 0]\n"
          ],
          "name": "stdout"
        }
      ]
    },
    {
      "cell_type": "code",
      "metadata": {
        "colab_type": "code",
        "id": "ohOGz24lsNAD",
        "colab": {}
      },
      "source": [
        "sentences=[]\n",
        "labels=[]\n",
        "random.shuffle(corpus)\n",
        "for x in range(training_size):\n",
        "    sentences.append(corpus[x][0])\n",
        "    labels.append(corpus[x][1])\n",
        "\n",
        "\n",
        "tokenizer = Tokenizer()\n",
        "tokenizer.fit_on_texts(sentences)\n",
        "\n",
        "word_index = tokenizer.word_index\n",
        "vocab_size=len(word_index)\n",
        "\n",
        "sequences = tokenizer.texts_to_sequences(sentences)\n",
        "padded = pad_sequences(sequences, maxlen=max_length, padding=padding_type, truncating=trunc_type)\n",
        "\n",
        "\n",
        "split = int(test_portion * training_size)\n",
        "\n",
        "\n",
        "\n",
        "\n",
        "test_sequences = np.array(padded[0:split])#because we are multiplying the training_size with the test_portion, so up until\n",
        "#the split belong to the test set and the rest from split up to the training_size belongs to the training set\n",
        "training_sequences = np.array(padded[split:training_size])\n",
        "test_labels = np.array(labels[0:split])\n",
        "training_labels = np.array(labels[split:training_size])"
      ],
      "execution_count": 0,
      "outputs": []
    },
    {
      "cell_type": "code",
      "metadata": {
        "colab_type": "code",
        "id": "gIrtRem1En3N",
        "outputId": "4ad8401c-8dba-420d-8aee-38dac0b0839a",
        "colab": {
          "base_uri": "https://localhost:8080/",
          "height": 51
        }
      },
      "source": [
        "print(vocab_size)\n",
        "print(word_index['i'])\n",
        "# Expected Output\n",
        "# 138858\n",
        "# 1"
      ],
      "execution_count": 0,
      "outputs": [
        {
          "output_type": "stream",
          "text": [
            "138858\n",
            "1\n"
          ],
          "name": "stdout"
        }
      ]
    },
    {
      "cell_type": "code",
      "metadata": {
        "colab_type": "code",
        "id": "C1zdgJkusRh0",
        "outputId": "5ab2086f-c698-403e-b2cf-49c8fed1dbe6",
        "colab": {
          "base_uri": "https://localhost:8080/",
          "height": 204
        }
      },
      "source": [
        "# Note this is the 100 dimension version of GloVe from Stanford\n",
        "# I unzipped and hosted it on my site to make this notebook easier\n",
        "!wget --no-check-certificate \\\n",
        "    https://storage.googleapis.com/laurencemoroney-blog.appspot.com/glove.6B.100d.txt \\\n",
        "    -O /tmp/glove.6B.100d.txt\n",
        "embeddings_index = {};\n",
        "with open('/tmp/glove.6B.100d.txt') as f:\n",
        "    for line in f:\n",
        "        values = line.split();\n",
        "        word = values[0];\n",
        "        coefs = np.asarray(values[1:], dtype='float32');\n",
        "        embeddings_index[word] = coefs;\n",
        "\n",
        "embeddings_matrix = np.zeros((vocab_size+1, embedding_dim));\n",
        "for word, i in word_index.items():\n",
        "    embedding_vector = embeddings_index.get(word);\n",
        "    if embedding_vector is not None:\n",
        "        embeddings_matrix[i] = embedding_vector;"
      ],
      "execution_count": 26,
      "outputs": [
        {
          "output_type": "stream",
          "text": [
            "--2020-04-08 06:12:14--  https://storage.googleapis.com/laurencemoroney-blog.appspot.com/glove.6B.100d.txt\n",
            "Resolving storage.googleapis.com (storage.googleapis.com)... 172.217.11.176, 2607:f8b0:4007:80d::2010\n",
            "Connecting to storage.googleapis.com (storage.googleapis.com)|172.217.11.176|:443... connected.\n",
            "HTTP request sent, awaiting response... 200 OK\n",
            "Length: 347116733 (331M) [text/plain]\n",
            "Saving to: ‘/tmp/glove.6B.100d.txt’\n",
            "\n",
            "/tmp/glove.6B.100d. 100%[===================>] 331.04M  88.6MB/s    in 3.7s    \n",
            "\n",
            "2020-04-08 06:12:18 (88.6 MB/s) - ‘/tmp/glove.6B.100d.txt’ saved [347116733/347116733]\n",
            "\n"
          ],
          "name": "stdout"
        }
      ]
    },
    {
      "cell_type": "code",
      "metadata": {
        "colab_type": "code",
        "id": "71NLk_lpFLNt",
        "outputId": "2c41b8d0-249d-4995-cd49-0e3a350bb66c",
        "colab": {
          "base_uri": "https://localhost:8080/",
          "height": 34
        }
      },
      "source": [
        "print(len(embeddings_matrix))\n",
        "# Expected Output\n",
        "# 138859"
      ],
      "execution_count": 27,
      "outputs": [
        {
          "output_type": "stream",
          "text": [
            "138694\n"
          ],
          "name": "stdout"
        }
      ]
    },
    {
      "cell_type": "code",
      "metadata": {
        "colab_type": "code",
        "id": "iKKvbuEBOGFz",
        "colab": {
          "base_uri": "https://localhost:8080/",
          "height": 1000
        },
        "outputId": "ce5f66eb-8b3f-40b9-eb17-9eb27d4cf912"
      },
      "source": [
        "model = tf.keras.Sequential([\n",
        "    tf.keras.layers.Embedding(vocab_size+1, embedding_dim, input_length=max_length, weights=[embeddings_matrix], trainable=False),\n",
        "    # YOUR CODE HERE - experiment with combining different types, such as convolutions and LSTMs\n",
        "    tf.keras.layers.Bidirectional(tf.keras.layers.LSTM(32)),\n",
        "    tf.keras.layers.Dense(24, activation='relu'),\n",
        "    tf.keras.layers.Dense(1, activation='sigmoid')\n",
        "])\n",
        "model.compile(loss='binary_crossentropy',optimizer='adam',metrics=['accuracy'])\n",
        "\n",
        "model.summary()\n",
        "\n",
        "num_epochs = 50\n",
        "history = model.fit(training_sequences, training_labels, epochs=num_epochs, validation_data=(test_sequences, test_labels), verbose=2)\n",
        "\n",
        "print(\"Training Complete\")\n"
      ],
      "execution_count": 28,
      "outputs": [
        {
          "output_type": "stream",
          "text": [
            "Model: \"sequential\"\n",
            "_________________________________________________________________\n",
            "Layer (type)                 Output Shape              Param #   \n",
            "=================================================================\n",
            "embedding (Embedding)        (None, 16, 100)           13869400  \n",
            "_________________________________________________________________\n",
            "bidirectional (Bidirectional (None, 64)                34048     \n",
            "_________________________________________________________________\n",
            "dense (Dense)                (None, 24)                1560      \n",
            "_________________________________________________________________\n",
            "dense_1 (Dense)              (None, 1)                 25        \n",
            "=================================================================\n",
            "Total params: 13,905,033\n",
            "Trainable params: 35,633\n",
            "Non-trainable params: 13,869,400\n",
            "_________________________________________________________________\n",
            "Epoch 1/50\n",
            "4500/4500 - 24s - loss: 0.5350 - accuracy: 0.7260 - val_loss: 0.5033 - val_accuracy: 0.7498\n",
            "Epoch 2/50\n",
            "4500/4500 - 23s - loss: 0.4902 - accuracy: 0.7592 - val_loss: 0.4879 - val_accuracy: 0.7616\n",
            "Epoch 3/50\n",
            "4500/4500 - 23s - loss: 0.4701 - accuracy: 0.7718 - val_loss: 0.4843 - val_accuracy: 0.7658\n",
            "Epoch 4/50\n",
            "4500/4500 - 23s - loss: 0.4546 - accuracy: 0.7817 - val_loss: 0.4847 - val_accuracy: 0.7642\n",
            "Epoch 5/50\n",
            "4500/4500 - 23s - loss: 0.4415 - accuracy: 0.7898 - val_loss: 0.4730 - val_accuracy: 0.7731\n",
            "Epoch 6/50\n",
            "4500/4500 - 23s - loss: 0.4295 - accuracy: 0.7971 - val_loss: 0.4785 - val_accuracy: 0.7722\n",
            "Epoch 7/50\n",
            "4500/4500 - 22s - loss: 0.4188 - accuracy: 0.8036 - val_loss: 0.4740 - val_accuracy: 0.7729\n",
            "Epoch 8/50\n",
            "4500/4500 - 22s - loss: 0.4082 - accuracy: 0.8107 - val_loss: 0.4915 - val_accuracy: 0.7662\n",
            "Epoch 9/50\n",
            "4500/4500 - 22s - loss: 0.3988 - accuracy: 0.8157 - val_loss: 0.4882 - val_accuracy: 0.7702\n",
            "Epoch 10/50\n",
            "4500/4500 - 22s - loss: 0.3889 - accuracy: 0.8215 - val_loss: 0.4992 - val_accuracy: 0.7682\n",
            "Epoch 11/50\n",
            "4500/4500 - 22s - loss: 0.3808 - accuracy: 0.8253 - val_loss: 0.5138 - val_accuracy: 0.7671\n",
            "Epoch 12/50\n",
            "4500/4500 - 22s - loss: 0.3724 - accuracy: 0.8300 - val_loss: 0.5115 - val_accuracy: 0.7655\n",
            "Epoch 13/50\n",
            "4500/4500 - 22s - loss: 0.3643 - accuracy: 0.8344 - val_loss: 0.5170 - val_accuracy: 0.7602\n",
            "Epoch 14/50\n",
            "4500/4500 - 22s - loss: 0.3572 - accuracy: 0.8392 - val_loss: 0.5244 - val_accuracy: 0.7620\n",
            "Epoch 15/50\n",
            "4500/4500 - 22s - loss: 0.3498 - accuracy: 0.8429 - val_loss: 0.5424 - val_accuracy: 0.7617\n",
            "Epoch 16/50\n",
            "4500/4500 - 22s - loss: 0.3429 - accuracy: 0.8459 - val_loss: 0.5484 - val_accuracy: 0.7571\n",
            "Epoch 17/50\n",
            "4500/4500 - 21s - loss: 0.3357 - accuracy: 0.8501 - val_loss: 0.5658 - val_accuracy: 0.7538\n",
            "Epoch 18/50\n",
            "4500/4500 - 22s - loss: 0.3301 - accuracy: 0.8527 - val_loss: 0.5742 - val_accuracy: 0.7619\n",
            "Epoch 19/50\n",
            "4500/4500 - 22s - loss: 0.3232 - accuracy: 0.8570 - val_loss: 0.5876 - val_accuracy: 0.7573\n",
            "Epoch 20/50\n",
            "4500/4500 - 21s - loss: 0.3173 - accuracy: 0.8583 - val_loss: 0.6055 - val_accuracy: 0.7563\n",
            "Epoch 21/50\n",
            "4500/4500 - 21s - loss: 0.3123 - accuracy: 0.8620 - val_loss: 0.6058 - val_accuracy: 0.7540\n",
            "Epoch 22/50\n",
            "4500/4500 - 21s - loss: 0.3067 - accuracy: 0.8641 - val_loss: 0.6196 - val_accuracy: 0.7531\n",
            "Epoch 23/50\n",
            "4500/4500 - 21s - loss: 0.3016 - accuracy: 0.8664 - val_loss: 0.6462 - val_accuracy: 0.7517\n",
            "Epoch 24/50\n",
            "4500/4500 - 21s - loss: 0.2968 - accuracy: 0.8685 - val_loss: 0.6401 - val_accuracy: 0.7514\n",
            "Epoch 25/50\n",
            "4500/4500 - 21s - loss: 0.2911 - accuracy: 0.8715 - val_loss: 0.6485 - val_accuracy: 0.7492\n",
            "Epoch 26/50\n",
            "4500/4500 - 21s - loss: 0.2866 - accuracy: 0.8733 - val_loss: 0.6875 - val_accuracy: 0.7487\n",
            "Epoch 27/50\n",
            "4500/4500 - 21s - loss: 0.2826 - accuracy: 0.8758 - val_loss: 0.6859 - val_accuracy: 0.7486\n",
            "Epoch 28/50\n",
            "4500/4500 - 21s - loss: 0.2783 - accuracy: 0.8770 - val_loss: 0.7064 - val_accuracy: 0.7431\n",
            "Epoch 29/50\n",
            "4500/4500 - 21s - loss: 0.2734 - accuracy: 0.8805 - val_loss: 0.7115 - val_accuracy: 0.7437\n",
            "Epoch 30/50\n",
            "4500/4500 - 21s - loss: 0.2702 - accuracy: 0.8823 - val_loss: 0.7519 - val_accuracy: 0.7488\n",
            "Epoch 31/50\n",
            "4500/4500 - 21s - loss: 0.2657 - accuracy: 0.8840 - val_loss: 0.7438 - val_accuracy: 0.7452\n",
            "Epoch 32/50\n",
            "4500/4500 - 21s - loss: 0.2622 - accuracy: 0.8851 - val_loss: 0.7460 - val_accuracy: 0.7444\n",
            "Epoch 33/50\n",
            "4500/4500 - 22s - loss: 0.2583 - accuracy: 0.8872 - val_loss: 0.7611 - val_accuracy: 0.7441\n",
            "Epoch 34/50\n",
            "4500/4500 - 21s - loss: 0.2552 - accuracy: 0.8879 - val_loss: 0.7885 - val_accuracy: 0.7415\n",
            "Epoch 35/50\n",
            "4500/4500 - 21s - loss: 0.2517 - accuracy: 0.8908 - val_loss: 0.8019 - val_accuracy: 0.7416\n",
            "Epoch 36/50\n",
            "4500/4500 - 21s - loss: 0.2493 - accuracy: 0.8917 - val_loss: 0.8431 - val_accuracy: 0.7421\n",
            "Epoch 37/50\n",
            "4500/4500 - 21s - loss: 0.2460 - accuracy: 0.8930 - val_loss: 0.8320 - val_accuracy: 0.7393\n",
            "Epoch 38/50\n",
            "4500/4500 - 21s - loss: 0.2435 - accuracy: 0.8936 - val_loss: 0.8626 - val_accuracy: 0.7431\n",
            "Epoch 39/50\n",
            "4500/4500 - 21s - loss: 0.2404 - accuracy: 0.8956 - val_loss: 0.8792 - val_accuracy: 0.7394\n",
            "Epoch 40/50\n",
            "4500/4500 - 21s - loss: 0.2381 - accuracy: 0.8960 - val_loss: 0.9243 - val_accuracy: 0.7403\n",
            "Epoch 41/50\n",
            "4500/4500 - 21s - loss: 0.2346 - accuracy: 0.8985 - val_loss: 0.8868 - val_accuracy: 0.7376\n",
            "Epoch 42/50\n",
            "4500/4500 - 21s - loss: 0.2325 - accuracy: 0.8988 - val_loss: 0.9098 - val_accuracy: 0.7362\n",
            "Epoch 43/50\n",
            "4500/4500 - 21s - loss: 0.2304 - accuracy: 0.8997 - val_loss: 0.9369 - val_accuracy: 0.7406\n",
            "Epoch 44/50\n",
            "4500/4500 - 21s - loss: 0.2286 - accuracy: 0.9010 - val_loss: 0.9336 - val_accuracy: 0.7391\n",
            "Epoch 45/50\n",
            "4500/4500 - 21s - loss: 0.2256 - accuracy: 0.9022 - val_loss: 0.9230 - val_accuracy: 0.7375\n",
            "Epoch 46/50\n",
            "4500/4500 - 21s - loss: 0.2236 - accuracy: 0.9027 - val_loss: 0.9380 - val_accuracy: 0.7366\n",
            "Epoch 47/50\n",
            "4500/4500 - 21s - loss: 0.2211 - accuracy: 0.9043 - val_loss: 0.9993 - val_accuracy: 0.7383\n",
            "Epoch 48/50\n",
            "4500/4500 - 21s - loss: 0.2189 - accuracy: 0.9055 - val_loss: 0.9928 - val_accuracy: 0.7344\n",
            "Epoch 49/50\n",
            "4500/4500 - 21s - loss: 0.2172 - accuracy: 0.9054 - val_loss: 0.9917 - val_accuracy: 0.7308\n",
            "Epoch 50/50\n",
            "4500/4500 - 21s - loss: 0.2153 - accuracy: 0.9070 - val_loss: 1.0234 - val_accuracy: 0.7347\n",
            "Training Complete\n"
          ],
          "name": "stdout"
        }
      ]
    },
    {
      "cell_type": "code",
      "metadata": {
        "colab_type": "code",
        "id": "qxju4ItJKO8F",
        "colab": {
          "base_uri": "https://localhost:8080/",
          "height": 607
        },
        "outputId": "6de52a3a-ddc4-4071-e4ea-41748923181c"
      },
      "source": [
        "import matplotlib.image  as mpimg\n",
        "import matplotlib.pyplot as plt\n",
        "\n",
        "#-----------------------------------------------------------\n",
        "# Retrieve a list of list results on training and test data\n",
        "# sets for each training epoch\n",
        "#-----------------------------------------------------------\n",
        "acc=history.history['accuracy']\n",
        "val_acc=history.history['val_accuracy']\n",
        "loss=history.history['loss']\n",
        "val_loss=history.history['val_loss']\n",
        "\n",
        "epochs=range(len(acc)) # Get number of epochs\n",
        "\n",
        "#------------------------------------------------\n",
        "# Plot training and validation accuracy per epoch\n",
        "#------------------------------------------------\n",
        "plt.plot(epochs, acc, 'r')\n",
        "plt.plot(epochs, val_acc, 'b')\n",
        "plt.title('Training and validation accuracy')\n",
        "plt.xlabel(\"Epochs\")\n",
        "plt.ylabel(\"Accuracy\")\n",
        "plt.legend([\"Accuracy\", \"Validation Accuracy\"])\n",
        "\n",
        "plt.figure()\n",
        "\n",
        "#------------------------------------------------\n",
        "# Plot training and validation loss per epoch\n",
        "#------------------------------------------------\n",
        "plt.plot(epochs, loss, 'r')\n",
        "plt.plot(epochs, val_loss, 'b')\n",
        "plt.title('Training and validation loss')\n",
        "plt.xlabel(\"Epochs\")\n",
        "plt.ylabel(\"Loss\")\n",
        "plt.legend([\"Loss\", \"Validation Loss\"])\n",
        "\n",
        "plt.figure()\n",
        "\n",
        "\n",
        "# Expected Output\n",
        "# A chart where the validation loss does not increase sharply!"
      ],
      "execution_count": 29,
      "outputs": [
        {
          "output_type": "execute_result",
          "data": {
            "text/plain": [
              "<Figure size 432x288 with 0 Axes>"
            ]
          },
          "metadata": {
            "tags": []
          },
          "execution_count": 29
        },
        {
          "output_type": "display_data",
          "data": {
            "image/png": "[encoded data removed]",
            "text/plain": [
              "<Figure size 432x288 with 1 Axes>"
            ]
          },
          "metadata": {
            "tags": []
          }
        },
        {
          "output_type": "display_data",
          "data": {
            "image/png": "[encoded data removed]",
            "text/plain": [
              "<Figure size 432x288 with 1 Axes>"
            ]
          },
          "metadata": {
            "tags": []
          }
        },
        {
          "output_type": "display_data",
          "data": {
            "text/plain": [
              "<Figure size 432x288 with 0 Axes>"
            ]
          },
          "metadata": {
            "tags": []
          }
        }
      ]
    },
    {
      "cell_type": "markdown",
      "metadata": {
        "id": "2rzT9UR5fu-n",
        "colab_type": "text"
      },
      "source": [
        "Clearly it is an overfitting situation."
      ]
    },
    {
      "cell_type": "code",
      "metadata": {
        "id": "GoKJBYwqgJs3",
        "colab_type": "code",
        "colab": {
          "base_uri": "https://localhost:8080/",
          "height": 850
        },
        "outputId": "4210dd29-7426-4f95-f906-7eee2ae0e7f8"
      },
      "source": [
        "model2 = tf.keras.Sequential([\n",
        "    tf.keras.layers.Embedding(vocab_size+1, embedding_dim, input_length=max_length, weights=[embeddings_matrix], trainable=False),                          \n",
        "    tf.keras.layers.Bidirectional(tf.keras.layers.LSTM(64, return_sequences=True)),\n",
        "    tf.keras.layers.Bidirectional(tf.keras.layers.LSTM(32)),\n",
        "    tf.keras.layers.Dense(64, activation='relu'),\n",
        "    tf.keras.layers.Dense(1, activation='sigmoid')\n",
        "])\n",
        "model2.compile(loss='binary_crossentropy',optimizer='adam',metrics=['accuracy'])\n",
        "\n",
        "model2.summary()\n",
        "\n",
        "num_epochs = 15\n",
        "history = model2.fit(training_sequences, training_labels, epochs=num_epochs, validation_data=(test_sequences, test_labels), verbose=2)\n",
        "\n",
        "print(\"Training Complete\")"
      ],
      "execution_count": 31,
      "outputs": [
        {
          "output_type": "stream",
          "text": [
            "Model: \"sequential_1\"\n",
            "_________________________________________________________________\n",
            "Layer (type)                 Output Shape              Param #   \n",
            "=================================================================\n",
            "embedding_1 (Embedding)      (None, 16, 100)           13869400  \n",
            "_________________________________________________________________\n",
            "bidirectional_1 (Bidirection (None, 16, 128)           84480     \n",
            "_________________________________________________________________\n",
            "bidirectional_2 (Bidirection (None, 64)                41216     \n",
            "_________________________________________________________________\n",
            "dense_2 (Dense)              (None, 64)                4160      \n",
            "_________________________________________________________________\n",
            "dense_3 (Dense)              (None, 1)                 65        \n",
            "=================================================================\n",
            "Total params: 13,999,321\n",
            "Trainable params: 129,921\n",
            "Non-trainable params: 13,869,400\n",
            "_________________________________________________________________\n",
            "Epoch 1/15\n",
            "4500/4500 - 37s - loss: 0.5300 - accuracy: 0.7295 - val_loss: 0.4995 - val_accuracy: 0.7552\n",
            "Epoch 2/15\n",
            "4500/4500 - 36s - loss: 0.4786 - accuracy: 0.7674 - val_loss: 0.4757 - val_accuracy: 0.7707\n",
            "Epoch 3/15\n",
            "4500/4500 - 35s - loss: 0.4524 - accuracy: 0.7831 - val_loss: 0.4667 - val_accuracy: 0.7750\n",
            "Epoch 4/15\n",
            "4500/4500 - 35s - loss: 0.4293 - accuracy: 0.7976 - val_loss: 0.4811 - val_accuracy: 0.7686\n",
            "Epoch 5/15\n",
            "4500/4500 - 35s - loss: 0.4078 - accuracy: 0.8099 - val_loss: 0.4741 - val_accuracy: 0.7796\n",
            "Epoch 6/15\n",
            "4500/4500 - 34s - loss: 0.3839 - accuracy: 0.8245 - val_loss: 0.4732 - val_accuracy: 0.7776\n",
            "Epoch 7/15\n",
            "4500/4500 - 35s - loss: 0.3586 - accuracy: 0.8371 - val_loss: 0.5107 - val_accuracy: 0.7719\n",
            "Epoch 8/15\n",
            "4500/4500 - 35s - loss: 0.3334 - accuracy: 0.8500 - val_loss: 0.5154 - val_accuracy: 0.7668\n",
            "Epoch 9/15\n",
            "4500/4500 - 34s - loss: 0.3068 - accuracy: 0.8640 - val_loss: 0.5605 - val_accuracy: 0.7647\n",
            "Epoch 10/15\n",
            "4500/4500 - 34s - loss: 0.2805 - accuracy: 0.8777 - val_loss: 0.5972 - val_accuracy: 0.7618\n",
            "Epoch 11/15\n",
            "4500/4500 - 34s - loss: 0.2562 - accuracy: 0.8890 - val_loss: 0.6457 - val_accuracy: 0.7594\n",
            "Epoch 12/15\n",
            "4500/4500 - 34s - loss: 0.2325 - accuracy: 0.8998 - val_loss: 0.7218 - val_accuracy: 0.7606\n",
            "Epoch 13/15\n",
            "4500/4500 - 34s - loss: 0.2119 - accuracy: 0.9094 - val_loss: 0.7207 - val_accuracy: 0.7489\n",
            "Epoch 14/15\n",
            "4500/4500 - 34s - loss: 0.1939 - accuracy: 0.9177 - val_loss: 0.8296 - val_accuracy: 0.7504\n",
            "Epoch 15/15\n",
            "4500/4500 - 34s - loss: 0.1792 - accuracy: 0.9246 - val_loss: 0.9176 - val_accuracy: 0.7519\n",
            "Training Complete\n"
          ],
          "name": "stdout"
        }
      ]
    },
    {
      "cell_type": "code",
      "metadata": {
        "id": "rcWk6FcUi_fO",
        "colab_type": "code",
        "colab": {
          "base_uri": "https://localhost:8080/",
          "height": 607
        },
        "outputId": "18daec46-e5d1-4233-cda4-ee130cddbe88"
      },
      "source": [
        "#-----------------------------------------------------------\n",
        "# Retrieve a list of list results on training and test data\n",
        "# sets for each training epoch\n",
        "#-----------------------------------------------------------\n",
        "acc=history.history['accuracy']\n",
        "val_acc=history.history['val_accuracy']\n",
        "loss=history.history['loss']\n",
        "val_loss=history.history['val_loss']\n",
        "\n",
        "epochs=range(len(acc)) # Get number of epochs\n",
        "\n",
        "#------------------------------------------------\n",
        "# Plot training and validation accuracy per epoch\n",
        "#------------------------------------------------\n",
        "plt.plot(epochs, acc, 'r')\n",
        "plt.plot(epochs, val_acc, 'b')\n",
        "plt.title('Training and validation accuracy')\n",
        "plt.xlabel(\"Epochs\")\n",
        "plt.ylabel(\"Accuracy\")\n",
        "plt.legend([\"Accuracy\", \"Validation Accuracy\"])\n",
        "\n",
        "plt.figure()\n",
        "\n",
        "#------------------------------------------------\n",
        "# Plot training and validation loss per epoch\n",
        "#------------------------------------------------\n",
        "plt.plot(epochs, loss, 'r')\n",
        "plt.plot(epochs, val_loss, 'b')\n",
        "plt.title('Training and validation loss')\n",
        "plt.xlabel(\"Epochs\")\n",
        "plt.ylabel(\"Loss\")\n",
        "plt.legend([\"Loss\", \"Validation Loss\"])\n",
        "\n",
        "plt.figure()\n",
        "\n",
        "\n"
      ],
      "execution_count": 32,
      "outputs": [
        {
          "output_type": "execute_result",
          "data": {
            "text/plain": [
              "<Figure size 432x288 with 0 Axes>"
            ]
          },
          "metadata": {
            "tags": []
          },
          "execution_count": 32
        },
        {
          "output_type": "display_data",
          "data": {
            "image/png": "[encoded data removed]",
            "text/plain": [
              "<Figure size 432x288 with 1 Axes>"
            ]
          },
          "metadata": {
            "tags": []
          }
        },
        {
          "output_type": "display_data",
          "data": {
            "image/png": "[encoded data removed]",
            "text/plain": [
              "<Figure size 432x288 with 1 Axes>"
            ]
          },
          "metadata": {
            "tags": []
          }
        },
        {
          "output_type": "display_data",
          "data": {
            "text/plain": [
              "<Figure size 432x288 with 0 Axes>"
            ]
          },
          "metadata": {
            "tags": []
          }
        }
      ]
    },
    {
      "cell_type": "markdown",
      "metadata": {
        "id": "WaTKl8eVjP8A",
        "colab_type": "text"
      },
      "source": [
        "Still the validation loss increases sharply!"
      ]
    },
    {
      "cell_type": "code",
      "metadata": {
        "id": "-jmPVKOYjUWo",
        "colab_type": "code",
        "colab": {
          "base_uri": "https://localhost:8080/",
          "height": 884
        },
        "outputId": "1c072e66-9ba0-4eb0-92a3-fad4044f21b5"
      },
      "source": [
        "model3 = tf.keras.Sequential([\n",
        "    tf.keras.layers.Embedding(vocab_size+1, embedding_dim, input_length=max_length, weights=[embeddings_matrix], trainable=False),\n",
        "    tf.keras.layers.Dropout(0.2),\n",
        "    tf.keras.layers.Conv1D(64, 5, activation='relu'),\n",
        "    tf.keras.layers.MaxPooling1D(pool_size=4),\n",
        "    tf.keras.layers.LSTM(64),\n",
        "    tf.keras.layers.Dense(1, activation='sigmoid')\n",
        "])\n",
        "model3.compile(loss='binary_crossentropy', optimizer='adam', metrics=['accuracy'])\n",
        "model3.summary()\n",
        "\n",
        "num_epochs = 15\n",
        "history = model3.fit(training_sequences, training_labels, epochs=num_epochs, validation_data=(test_sequences, test_labels), verbose=2)\n",
        "\n",
        "print(\"Training Complete\")"
      ],
      "execution_count": 33,
      "outputs": [
        {
          "output_type": "stream",
          "text": [
            "Model: \"sequential_2\"\n",
            "_________________________________________________________________\n",
            "Layer (type)                 Output Shape              Param #   \n",
            "=================================================================\n",
            "embedding_2 (Embedding)      (None, 16, 100)           13869400  \n",
            "_________________________________________________________________\n",
            "dropout (Dropout)            (None, 16, 100)           0         \n",
            "_________________________________________________________________\n",
            "conv1d (Conv1D)              (None, 12, 64)            32064     \n",
            "_________________________________________________________________\n",
            "max_pooling1d (MaxPooling1D) (None, 3, 64)             0         \n",
            "_________________________________________________________________\n",
            "lstm_3 (LSTM)                (None, 64)                33024     \n",
            "_________________________________________________________________\n",
            "dense_4 (Dense)              (None, 1)                 65        \n",
            "=================================================================\n",
            "Total params: 13,934,553\n",
            "Trainable params: 65,153\n",
            "Non-trainable params: 13,869,400\n",
            "_________________________________________________________________\n",
            "Epoch 1/15\n",
            "4500/4500 - 16s - loss: 0.5683 - accuracy: 0.6983 - val_loss: 0.5228 - val_accuracy: 0.7347\n",
            "Epoch 2/15\n",
            "4500/4500 - 15s - loss: 0.5279 - accuracy: 0.7300 - val_loss: 0.5109 - val_accuracy: 0.7440\n",
            "Epoch 3/15\n",
            "4500/4500 - 15s - loss: 0.5116 - accuracy: 0.7422 - val_loss: 0.5021 - val_accuracy: 0.7526\n",
            "Epoch 4/15\n",
            "4500/4500 - 15s - loss: 0.5016 - accuracy: 0.7502 - val_loss: 0.5008 - val_accuracy: 0.7522\n",
            "Epoch 5/15\n",
            "4500/4500 - 15s - loss: 0.4935 - accuracy: 0.7550 - val_loss: 0.5037 - val_accuracy: 0.7466\n",
            "Epoch 6/15\n",
            "4500/4500 - 15s - loss: 0.4859 - accuracy: 0.7599 - val_loss: 0.4958 - val_accuracy: 0.7570\n",
            "Epoch 7/15\n",
            "4500/4500 - 15s - loss: 0.4794 - accuracy: 0.7644 - val_loss: 0.4980 - val_accuracy: 0.7554\n",
            "Epoch 8/15\n",
            "4500/4500 - 15s - loss: 0.4743 - accuracy: 0.7672 - val_loss: 0.4963 - val_accuracy: 0.7553\n",
            "Epoch 9/15\n",
            "4500/4500 - 15s - loss: 0.4702 - accuracy: 0.7699 - val_loss: 0.5010 - val_accuracy: 0.7546\n",
            "Epoch 10/15\n",
            "4500/4500 - 15s - loss: 0.4665 - accuracy: 0.7728 - val_loss: 0.4965 - val_accuracy: 0.7529\n",
            "Epoch 11/15\n",
            "4500/4500 - 14s - loss: 0.4621 - accuracy: 0.7753 - val_loss: 0.5000 - val_accuracy: 0.7541\n",
            "Epoch 12/15\n",
            "4500/4500 - 14s - loss: 0.4593 - accuracy: 0.7773 - val_loss: 0.5069 - val_accuracy: 0.7510\n",
            "Epoch 13/15\n",
            "4500/4500 - 14s - loss: 0.4575 - accuracy: 0.7778 - val_loss: 0.5100 - val_accuracy: 0.7551\n",
            "Epoch 14/15\n",
            "4500/4500 - 14s - loss: 0.4553 - accuracy: 0.7793 - val_loss: 0.5039 - val_accuracy: 0.7552\n",
            "Epoch 15/15\n",
            "4500/4500 - 14s - loss: 0.4527 - accuracy: 0.7807 - val_loss: 0.5081 - val_accuracy: 0.7493\n",
            "Training Complete\n"
          ],
          "name": "stdout"
        }
      ]
    },
    {
      "cell_type": "code",
      "metadata": {
        "id": "P4OzXZoNjowU",
        "colab_type": "code",
        "colab": {
          "base_uri": "https://localhost:8080/",
          "height": 607
        },
        "outputId": "8d2193e9-3022-4f51-a7a7-668f6f81122a"
      },
      "source": [
        "#-----------------------------------------------------------\n",
        "# Retrieve a list of list results on training and test data\n",
        "# sets for each training epoch\n",
        "#-----------------------------------------------------------\n",
        "acc=history.history['accuracy']\n",
        "val_acc=history.history['val_accuracy']\n",
        "loss=history.history['loss']\n",
        "val_loss=history.history['val_loss']\n",
        "\n",
        "epochs=range(len(acc)) # Get number of epochs\n",
        "\n",
        "#------------------------------------------------\n",
        "# Plot training and validation accuracy per epoch\n",
        "#------------------------------------------------\n",
        "plt.plot(epochs, acc, 'r')\n",
        "plt.plot(epochs, val_acc, 'b')\n",
        "plt.title('Training and validation accuracy')\n",
        "plt.xlabel(\"Epochs\")\n",
        "plt.ylabel(\"Accuracy\")\n",
        "plt.legend([\"Accuracy\", \"Validation Accuracy\"])\n",
        "\n",
        "plt.figure()\n",
        "\n",
        "#------------------------------------------------\n",
        "# Plot training and validation loss per epoch\n",
        "#------------------------------------------------\n",
        "plt.plot(epochs, loss, 'r')\n",
        "plt.plot(epochs, val_loss, 'b')\n",
        "plt.title('Training and validation loss')\n",
        "plt.xlabel(\"Epochs\")\n",
        "plt.ylabel(\"Loss\")\n",
        "plt.legend([\"Loss\", \"Validation Loss\"])\n",
        "\n",
        "plt.figure()\n",
        "\n"
      ],
      "execution_count": 34,
      "outputs": [
        {
          "output_type": "execute_result",
          "data": {
            "text/plain": [
              "<Figure size 432x288 with 0 Axes>"
            ]
          },
          "metadata": {
            "tags": []
          },
          "execution_count": 34
        },
        {
          "output_type": "display_data",
          "data": {
            "image/png": "[encoded data removed]",
            "text/plain": [
              "<Figure size 432x288 with 1 Axes>"
            ]
          },
          "metadata": {
            "tags": []
          }
        },
        {
          "output_type": "display_data",
          "data": {
            "image/png": "[encoded data removed]",
            "text/plain": [
              "<Figure size 432x288 with 1 Axes>"
            ]
          },
          "metadata": {
            "tags": []
          }
        },
        {
          "output_type": "display_data",
          "data": {
            "text/plain": [
              "<Figure size 432x288 with 0 Axes>"
            ]
          },
          "metadata": {
            "tags": []
          }
        }
      ]
    },
    {
      "cell_type": "markdown",
      "metadata": {
        "id": "Umpg06_Fpqjh",
        "colab_type": "text"
      },
      "source": [
        "Here the validation loss does not increase sharply!"
      ]
    }
  ]
}
